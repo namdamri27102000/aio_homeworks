{
 "cells": [
  {
   "cell_type": "code",
   "execution_count": 1,
   "id": "a7402ef5",
   "metadata": {
    "_cell_guid": "b1076dfc-b9ad-4769-8c92-a6c4dae69d19",
    "_uuid": "8f2839f25d086af736a60e9eeb907d3b93b6e0e5",
    "execution": {
     "iopub.execute_input": "2024-12-22T09:54:03.566699Z",
     "iopub.status.busy": "2024-12-22T09:54:03.566347Z",
     "iopub.status.idle": "2024-12-22T09:54:08.105586Z",
     "shell.execute_reply": "2024-12-22T09:54:08.104824Z"
    },
    "papermill": {
     "duration": 4.54733,
     "end_time": "2024-12-22T09:54:08.107234",
     "exception": false,
     "start_time": "2024-12-22T09:54:03.559904",
     "status": "completed"
    },
    "tags": []
   },
   "outputs": [],
   "source": [
    "import pandas as pd\n",
    "import numpy as np\n",
    "import torch\n",
    "import torch.nn as nn\n",
    "from torch.utils.data import Dataset, DataLoader\n",
    "from sklearn.model_selection import train_test_split\n",
    "import random\n",
    "import matplotlib.pyplot as plt"
   ]
  },
  {
   "cell_type": "code",
   "execution_count": 2,
   "id": "84302aa2",
   "metadata": {
    "execution": {
     "iopub.execute_input": "2024-12-22T09:54:08.118278Z",
     "iopub.status.busy": "2024-12-22T09:54:08.117851Z",
     "iopub.status.idle": "2024-12-22T09:54:08.126138Z",
     "shell.execute_reply": "2024-12-22T09:54:08.125516Z"
    },
    "papermill": {
     "duration": 0.015009,
     "end_time": "2024-12-22T09:54:08.127457",
     "exception": false,
     "start_time": "2024-12-22T09:54:08.112448",
     "status": "completed"
    },
    "tags": []
   },
   "outputs": [],
   "source": [
    "def set_seed(seed):\n",
    "    random.seed(seed)\n",
    "    np.random.seed(seed)\n",
    "    torch.manual_seed(seed)\n",
    "    torch.cuda.manual_seed(seed)\n",
    "    torch.cuda.manual_seed_all(seed)\n",
    "    torch.backends.cudnn.deterministic = True\n",
    "    torch.backends.cudnn.benchmark = False\n",
    "\n",
    "seed = 1\n",
    "set_seed(seed)"
   ]
  },
  {
   "cell_type": "markdown",
   "id": "d56d733b",
   "metadata": {
    "papermill": {
     "duration": 0.004574,
     "end_time": "2024-12-22T09:54:08.136553",
     "exception": false,
     "start_time": "2024-12-22T09:54:08.131979",
     "status": "completed"
    },
    "tags": []
   },
   "source": [
    "# **1. Sentiment Analysis for Financial News**"
   ]
  },
  {
   "cell_type": "markdown",
   "id": "3bfcd066",
   "metadata": {
    "papermill": {
     "duration": 0.004167,
     "end_time": "2024-12-22T09:54:08.145053",
     "exception": false,
     "start_time": "2024-12-22T09:54:08.140886",
     "status": "completed"
    },
    "tags": []
   },
   "source": [
    "# **Data**"
   ]
  },
  {
   "cell_type": "code",
   "execution_count": 3,
   "id": "feaf63cf",
   "metadata": {
    "execution": {
     "iopub.execute_input": "2024-12-22T09:54:08.154663Z",
     "iopub.status.busy": "2024-12-22T09:54:08.154421Z",
     "iopub.status.idle": "2024-12-22T09:54:08.691984Z",
     "shell.execute_reply": "2024-12-22T09:54:08.691075Z"
    },
    "papermill": {
     "duration": 0.544217,
     "end_time": "2024-12-22T09:54:08.693558",
     "exception": false,
     "start_time": "2024-12-22T09:54:08.149341",
     "status": "completed"
    },
    "tags": []
   },
   "outputs": [
    {
     "data": {
      "text/html": [
       "<div>\n",
       "<style scoped>\n",
       "    .dataframe tbody tr th:only-of-type {\n",
       "        vertical-align: middle;\n",
       "    }\n",
       "\n",
       "    .dataframe tbody tr th {\n",
       "        vertical-align: top;\n",
       "    }\n",
       "\n",
       "    .dataframe thead th {\n",
       "        text-align: right;\n",
       "    }\n",
       "</style>\n",
       "<table border=\"1\" class=\"dataframe\">\n",
       "  <thead>\n",
       "    <tr style=\"text-align: right;\">\n",
       "      <th></th>\n",
       "      <th>Formatted Date</th>\n",
       "      <th>Summary</th>\n",
       "      <th>Precip Type</th>\n",
       "      <th>Temperature (C)</th>\n",
       "      <th>Apparent Temperature (C)</th>\n",
       "      <th>Humidity</th>\n",
       "      <th>Wind Speed (km/h)</th>\n",
       "      <th>Wind Bearing (degrees)</th>\n",
       "      <th>Visibility (km)</th>\n",
       "      <th>Loud Cover</th>\n",
       "      <th>Pressure (millibars)</th>\n",
       "      <th>Daily Summary</th>\n",
       "    </tr>\n",
       "  </thead>\n",
       "  <tbody>\n",
       "    <tr>\n",
       "      <th>0</th>\n",
       "      <td>2006-04-01 00:00:00.000 +0200</td>\n",
       "      <td>Partly Cloudy</td>\n",
       "      <td>rain</td>\n",
       "      <td>9.472222</td>\n",
       "      <td>7.388889</td>\n",
       "      <td>0.89</td>\n",
       "      <td>14.1197</td>\n",
       "      <td>251.0</td>\n",
       "      <td>15.8263</td>\n",
       "      <td>0.0</td>\n",
       "      <td>1015.13</td>\n",
       "      <td>Partly cloudy throughout the day.</td>\n",
       "    </tr>\n",
       "    <tr>\n",
       "      <th>1</th>\n",
       "      <td>2006-04-01 01:00:00.000 +0200</td>\n",
       "      <td>Partly Cloudy</td>\n",
       "      <td>rain</td>\n",
       "      <td>9.355556</td>\n",
       "      <td>7.227778</td>\n",
       "      <td>0.86</td>\n",
       "      <td>14.2646</td>\n",
       "      <td>259.0</td>\n",
       "      <td>15.8263</td>\n",
       "      <td>0.0</td>\n",
       "      <td>1015.63</td>\n",
       "      <td>Partly cloudy throughout the day.</td>\n",
       "    </tr>\n",
       "    <tr>\n",
       "      <th>2</th>\n",
       "      <td>2006-04-01 02:00:00.000 +0200</td>\n",
       "      <td>Mostly Cloudy</td>\n",
       "      <td>rain</td>\n",
       "      <td>9.377778</td>\n",
       "      <td>9.377778</td>\n",
       "      <td>0.89</td>\n",
       "      <td>3.9284</td>\n",
       "      <td>204.0</td>\n",
       "      <td>14.9569</td>\n",
       "      <td>0.0</td>\n",
       "      <td>1015.94</td>\n",
       "      <td>Partly cloudy throughout the day.</td>\n",
       "    </tr>\n",
       "    <tr>\n",
       "      <th>3</th>\n",
       "      <td>2006-04-01 03:00:00.000 +0200</td>\n",
       "      <td>Partly Cloudy</td>\n",
       "      <td>rain</td>\n",
       "      <td>8.288889</td>\n",
       "      <td>5.944444</td>\n",
       "      <td>0.83</td>\n",
       "      <td>14.1036</td>\n",
       "      <td>269.0</td>\n",
       "      <td>15.8263</td>\n",
       "      <td>0.0</td>\n",
       "      <td>1016.41</td>\n",
       "      <td>Partly cloudy throughout the day.</td>\n",
       "    </tr>\n",
       "    <tr>\n",
       "      <th>4</th>\n",
       "      <td>2006-04-01 04:00:00.000 +0200</td>\n",
       "      <td>Mostly Cloudy</td>\n",
       "      <td>rain</td>\n",
       "      <td>8.755556</td>\n",
       "      <td>6.977778</td>\n",
       "      <td>0.83</td>\n",
       "      <td>11.0446</td>\n",
       "      <td>259.0</td>\n",
       "      <td>15.8263</td>\n",
       "      <td>0.0</td>\n",
       "      <td>1016.51</td>\n",
       "      <td>Partly cloudy throughout the day.</td>\n",
       "    </tr>\n",
       "    <tr>\n",
       "      <th>...</th>\n",
       "      <td>...</td>\n",
       "      <td>...</td>\n",
       "      <td>...</td>\n",
       "      <td>...</td>\n",
       "      <td>...</td>\n",
       "      <td>...</td>\n",
       "      <td>...</td>\n",
       "      <td>...</td>\n",
       "      <td>...</td>\n",
       "      <td>...</td>\n",
       "      <td>...</td>\n",
       "      <td>...</td>\n",
       "    </tr>\n",
       "    <tr>\n",
       "      <th>96448</th>\n",
       "      <td>2016-09-09 19:00:00.000 +0200</td>\n",
       "      <td>Partly Cloudy</td>\n",
       "      <td>rain</td>\n",
       "      <td>26.016667</td>\n",
       "      <td>26.016667</td>\n",
       "      <td>0.43</td>\n",
       "      <td>10.9963</td>\n",
       "      <td>31.0</td>\n",
       "      <td>16.1000</td>\n",
       "      <td>0.0</td>\n",
       "      <td>1014.36</td>\n",
       "      <td>Partly cloudy starting in the morning.</td>\n",
       "    </tr>\n",
       "    <tr>\n",
       "      <th>96449</th>\n",
       "      <td>2016-09-09 20:00:00.000 +0200</td>\n",
       "      <td>Partly Cloudy</td>\n",
       "      <td>rain</td>\n",
       "      <td>24.583333</td>\n",
       "      <td>24.583333</td>\n",
       "      <td>0.48</td>\n",
       "      <td>10.0947</td>\n",
       "      <td>20.0</td>\n",
       "      <td>15.5526</td>\n",
       "      <td>0.0</td>\n",
       "      <td>1015.16</td>\n",
       "      <td>Partly cloudy starting in the morning.</td>\n",
       "    </tr>\n",
       "    <tr>\n",
       "      <th>96450</th>\n",
       "      <td>2016-09-09 21:00:00.000 +0200</td>\n",
       "      <td>Partly Cloudy</td>\n",
       "      <td>rain</td>\n",
       "      <td>22.038889</td>\n",
       "      <td>22.038889</td>\n",
       "      <td>0.56</td>\n",
       "      <td>8.9838</td>\n",
       "      <td>30.0</td>\n",
       "      <td>16.1000</td>\n",
       "      <td>0.0</td>\n",
       "      <td>1015.66</td>\n",
       "      <td>Partly cloudy starting in the morning.</td>\n",
       "    </tr>\n",
       "    <tr>\n",
       "      <th>96451</th>\n",
       "      <td>2016-09-09 22:00:00.000 +0200</td>\n",
       "      <td>Partly Cloudy</td>\n",
       "      <td>rain</td>\n",
       "      <td>21.522222</td>\n",
       "      <td>21.522222</td>\n",
       "      <td>0.60</td>\n",
       "      <td>10.5294</td>\n",
       "      <td>20.0</td>\n",
       "      <td>16.1000</td>\n",
       "      <td>0.0</td>\n",
       "      <td>1015.95</td>\n",
       "      <td>Partly cloudy starting in the morning.</td>\n",
       "    </tr>\n",
       "    <tr>\n",
       "      <th>96452</th>\n",
       "      <td>2016-09-09 23:00:00.000 +0200</td>\n",
       "      <td>Partly Cloudy</td>\n",
       "      <td>rain</td>\n",
       "      <td>20.438889</td>\n",
       "      <td>20.438889</td>\n",
       "      <td>0.61</td>\n",
       "      <td>5.8765</td>\n",
       "      <td>39.0</td>\n",
       "      <td>15.5204</td>\n",
       "      <td>0.0</td>\n",
       "      <td>1016.16</td>\n",
       "      <td>Partly cloudy starting in the morning.</td>\n",
       "    </tr>\n",
       "  </tbody>\n",
       "</table>\n",
       "<p>96453 rows × 12 columns</p>\n",
       "</div>"
      ],
      "text/plain": [
       "                      Formatted Date        Summary Precip Type  \\\n",
       "0      2006-04-01 00:00:00.000 +0200  Partly Cloudy        rain   \n",
       "1      2006-04-01 01:00:00.000 +0200  Partly Cloudy        rain   \n",
       "2      2006-04-01 02:00:00.000 +0200  Mostly Cloudy        rain   \n",
       "3      2006-04-01 03:00:00.000 +0200  Partly Cloudy        rain   \n",
       "4      2006-04-01 04:00:00.000 +0200  Mostly Cloudy        rain   \n",
       "...                              ...            ...         ...   \n",
       "96448  2016-09-09 19:00:00.000 +0200  Partly Cloudy        rain   \n",
       "96449  2016-09-09 20:00:00.000 +0200  Partly Cloudy        rain   \n",
       "96450  2016-09-09 21:00:00.000 +0200  Partly Cloudy        rain   \n",
       "96451  2016-09-09 22:00:00.000 +0200  Partly Cloudy        rain   \n",
       "96452  2016-09-09 23:00:00.000 +0200  Partly Cloudy        rain   \n",
       "\n",
       "       Temperature (C)  Apparent Temperature (C)  Humidity  Wind Speed (km/h)  \\\n",
       "0             9.472222                  7.388889      0.89            14.1197   \n",
       "1             9.355556                  7.227778      0.86            14.2646   \n",
       "2             9.377778                  9.377778      0.89             3.9284   \n",
       "3             8.288889                  5.944444      0.83            14.1036   \n",
       "4             8.755556                  6.977778      0.83            11.0446   \n",
       "...                ...                       ...       ...                ...   \n",
       "96448        26.016667                 26.016667      0.43            10.9963   \n",
       "96449        24.583333                 24.583333      0.48            10.0947   \n",
       "96450        22.038889                 22.038889      0.56             8.9838   \n",
       "96451        21.522222                 21.522222      0.60            10.5294   \n",
       "96452        20.438889                 20.438889      0.61             5.8765   \n",
       "\n",
       "       Wind Bearing (degrees)  Visibility (km)  Loud Cover  \\\n",
       "0                       251.0          15.8263         0.0   \n",
       "1                       259.0          15.8263         0.0   \n",
       "2                       204.0          14.9569         0.0   \n",
       "3                       269.0          15.8263         0.0   \n",
       "4                       259.0          15.8263         0.0   \n",
       "...                       ...              ...         ...   \n",
       "96448                    31.0          16.1000         0.0   \n",
       "96449                    20.0          15.5526         0.0   \n",
       "96450                    30.0          16.1000         0.0   \n",
       "96451                    20.0          16.1000         0.0   \n",
       "96452                    39.0          15.5204         0.0   \n",
       "\n",
       "       Pressure (millibars)                           Daily Summary  \n",
       "0                   1015.13       Partly cloudy throughout the day.  \n",
       "1                   1015.63       Partly cloudy throughout the day.  \n",
       "2                   1015.94       Partly cloudy throughout the day.  \n",
       "3                   1016.41       Partly cloudy throughout the day.  \n",
       "4                   1016.51       Partly cloudy throughout the day.  \n",
       "...                     ...                                     ...  \n",
       "96448               1014.36  Partly cloudy starting in the morning.  \n",
       "96449               1015.16  Partly cloudy starting in the morning.  \n",
       "96450               1015.66  Partly cloudy starting in the morning.  \n",
       "96451               1015.95  Partly cloudy starting in the morning.  \n",
       "96452               1016.16  Partly cloudy starting in the morning.  \n",
       "\n",
       "[96453 rows x 12 columns]"
      ]
     },
     "execution_count": 3,
     "metadata": {},
     "output_type": "execute_result"
    }
   ],
   "source": [
    "data_path = '/kaggle/input/aio-module6-w3-dataset/weatherHistory/weatherHistory.csv'\n",
    "df = pd.read_csv(data_path)\n",
    "df"
   ]
  },
  {
   "cell_type": "code",
   "execution_count": 4,
   "id": "3f36ff62",
   "metadata": {
    "execution": {
     "iopub.execute_input": "2024-12-22T09:54:08.704525Z",
     "iopub.status.busy": "2024-12-22T09:54:08.704275Z",
     "iopub.status.idle": "2024-12-22T09:54:08.710194Z",
     "shell.execute_reply": "2024-12-22T09:54:08.709389Z"
    },
    "papermill": {
     "duration": 0.012745,
     "end_time": "2024-12-22T09:54:08.711502",
     "exception": false,
     "start_time": "2024-12-22T09:54:08.698757",
     "status": "completed"
    },
    "tags": []
   },
   "outputs": [
    {
     "data": {
      "text/plain": [
       "0         9.472222\n",
       "1         9.355556\n",
       "2         9.377778\n",
       "3         8.288889\n",
       "4         8.755556\n",
       "           ...    \n",
       "96448    26.016667\n",
       "96449    24.583333\n",
       "96450    22.038889\n",
       "96451    21.522222\n",
       "96452    20.438889\n",
       "Name: Temperature (C), Length: 96453, dtype: float64"
      ]
     },
     "execution_count": 4,
     "metadata": {},
     "output_type": "execute_result"
    }
   ],
   "source": [
    "df['Temperature (C)']"
   ]
  },
  {
   "cell_type": "code",
   "execution_count": 5,
   "id": "6b98a73b",
   "metadata": {
    "execution": {
     "iopub.execute_input": "2024-12-22T09:54:08.722415Z",
     "iopub.status.busy": "2024-12-22T09:54:08.722185Z",
     "iopub.status.idle": "2024-12-22T09:54:08.745624Z",
     "shell.execute_reply": "2024-12-22T09:54:08.744857Z"
    },
    "papermill": {
     "duration": 0.030381,
     "end_time": "2024-12-22T09:54:08.746944",
     "exception": false,
     "start_time": "2024-12-22T09:54:08.716563",
     "status": "completed"
    },
    "tags": []
   },
   "outputs": [
    {
     "data": {
      "text/html": [
       "<div>\n",
       "<style scoped>\n",
       "    .dataframe tbody tr th:only-of-type {\n",
       "        vertical-align: middle;\n",
       "    }\n",
       "\n",
       "    .dataframe tbody tr th {\n",
       "        vertical-align: top;\n",
       "    }\n",
       "\n",
       "    .dataframe thead th {\n",
       "        text-align: right;\n",
       "    }\n",
       "</style>\n",
       "<table border=\"1\" class=\"dataframe\">\n",
       "  <thead>\n",
       "    <tr style=\"text-align: right;\">\n",
       "      <th></th>\n",
       "      <th>temperature</th>\n",
       "    </tr>\n",
       "  </thead>\n",
       "  <tbody>\n",
       "    <tr>\n",
       "      <th>2006-04-01 00:00:00.000 +0200</th>\n",
       "      <td>9.472222</td>\n",
       "    </tr>\n",
       "    <tr>\n",
       "      <th>2006-04-01 01:00:00.000 +0200</th>\n",
       "      <td>9.355556</td>\n",
       "    </tr>\n",
       "    <tr>\n",
       "      <th>2006-04-01 02:00:00.000 +0200</th>\n",
       "      <td>9.377778</td>\n",
       "    </tr>\n",
       "    <tr>\n",
       "      <th>2006-04-01 03:00:00.000 +0200</th>\n",
       "      <td>8.288889</td>\n",
       "    </tr>\n",
       "    <tr>\n",
       "      <th>2006-04-01 04:00:00.000 +0200</th>\n",
       "      <td>8.755556</td>\n",
       "    </tr>\n",
       "    <tr>\n",
       "      <th>...</th>\n",
       "      <td>...</td>\n",
       "    </tr>\n",
       "    <tr>\n",
       "      <th>2016-09-09 19:00:00.000 +0200</th>\n",
       "      <td>26.016667</td>\n",
       "    </tr>\n",
       "    <tr>\n",
       "      <th>2016-09-09 20:00:00.000 +0200</th>\n",
       "      <td>24.583333</td>\n",
       "    </tr>\n",
       "    <tr>\n",
       "      <th>2016-09-09 21:00:00.000 +0200</th>\n",
       "      <td>22.038889</td>\n",
       "    </tr>\n",
       "    <tr>\n",
       "      <th>2016-09-09 22:00:00.000 +0200</th>\n",
       "      <td>21.522222</td>\n",
       "    </tr>\n",
       "    <tr>\n",
       "      <th>2016-09-09 23:00:00.000 +0200</th>\n",
       "      <td>20.438889</td>\n",
       "    </tr>\n",
       "  </tbody>\n",
       "</table>\n",
       "<p>96453 rows × 1 columns</p>\n",
       "</div>"
      ],
      "text/plain": [
       "                               temperature\n",
       "2006-04-01 00:00:00.000 +0200     9.472222\n",
       "2006-04-01 01:00:00.000 +0200     9.355556\n",
       "2006-04-01 02:00:00.000 +0200     9.377778\n",
       "2006-04-01 03:00:00.000 +0200     8.288889\n",
       "2006-04-01 04:00:00.000 +0200     8.755556\n",
       "...                                    ...\n",
       "2016-09-09 19:00:00.000 +0200    26.016667\n",
       "2016-09-09 20:00:00.000 +0200    24.583333\n",
       "2016-09-09 21:00:00.000 +0200    22.038889\n",
       "2016-09-09 22:00:00.000 +0200    21.522222\n",
       "2016-09-09 23:00:00.000 +0200    20.438889\n",
       "\n",
       "[96453 rows x 1 columns]"
      ]
     },
     "execution_count": 5,
     "metadata": {},
     "output_type": "execute_result"
    }
   ],
   "source": [
    "dataset_df = pd.DataFrame(data=df['Temperature (C)'].tolist(), index=df['Formatted Date'].tolist(), columns=['temperature'])\n",
    "dataset_df"
   ]
  },
  {
   "cell_type": "code",
   "execution_count": 6,
   "id": "e7058b27",
   "metadata": {
    "execution": {
     "iopub.execute_input": "2024-12-22T09:54:08.757925Z",
     "iopub.status.busy": "2024-12-22T09:54:08.757679Z",
     "iopub.status.idle": "2024-12-22T09:54:08.763436Z",
     "shell.execute_reply": "2024-12-22T09:54:08.762496Z"
    },
    "papermill": {
     "duration": 0.012843,
     "end_time": "2024-12-22T09:54:08.764952",
     "exception": false,
     "start_time": "2024-12-22T09:54:08.752109",
     "status": "completed"
    },
    "tags": []
   },
   "outputs": [],
   "source": [
    "def slicing_window(df, start_index, end_index, input_size, label_size, offset):\n",
    "    features = []\n",
    "    labels = []\n",
    "    window_size = input_size + offset\n",
    "\n",
    "    if end_index == None:\n",
    "        end_index = len(df) - (input_size + offset + label_size)\n",
    "        \n",
    "    for i in range(start_index, end_index):\n",
    "        \n",
    "        feature_start_id = i\n",
    "        feature_end_id = feature_start_id + input_size\n",
    "        label_start_id = i + input_size + offset - 1\n",
    "        label_end_id = label_start_id + label_size\n",
    "        \n",
    "        if label_end_id > len(df):\n",
    "            break\n",
    "            \n",
    "        feature = df[feature_start_id : feature_end_id].values\n",
    "        label = df[label_start_id : label_end_id].values\n",
    "\n",
    "        features.append(feature)\n",
    "        labels.append(label)\n",
    "\n",
    "    features = np.array(features)\n",
    "    labels = np.array(labels)\n",
    "    return features, labels\n",
    "        "
   ]
  },
  {
   "cell_type": "code",
   "execution_count": 7,
   "id": "dddc137f",
   "metadata": {
    "execution": {
     "iopub.execute_input": "2024-12-22T09:54:08.781322Z",
     "iopub.status.busy": "2024-12-22T09:54:08.781097Z",
     "iopub.status.idle": "2024-12-22T09:54:12.450265Z",
     "shell.execute_reply": "2024-12-22T09:54:12.449300Z"
    },
    "papermill": {
     "duration": 3.677427,
     "end_time": "2024-12-22T09:54:12.451917",
     "exception": false,
     "start_time": "2024-12-22T09:54:08.774490",
     "status": "completed"
    },
    "tags": []
   },
   "outputs": [],
   "source": [
    "dataset_length = len(dataset_df)\n",
    "val_size = 0.2\n",
    "input_size = 6\n",
    "label_size = 1\n",
    "train_end_index = int((1 - val_size) * dataset_length)\n",
    "valid_end_index = int(train_end_index + val_size * dataset_length // 2)\n",
    "\n",
    "train_X, train_y = slicing_window(dataset_df, start_index=0, end_index=train_end_index, \n",
    "                         input_size=input_size, label_size=label_size, offset=1)\n",
    "\n",
    "valid_X, valid_y = slicing_window(dataset_df, start_index=train_end_index, end_index=valid_end_index, \n",
    "                         input_size=input_size, label_size=label_size, offset=1)\n",
    "\n",
    "test_X, test_y = slicing_window(dataset_df, start_index=valid_end_index, end_index=dataset_length, \n",
    "                         input_size=input_size, label_size=label_size, offset=1)"
   ]
  },
  {
   "cell_type": "code",
   "execution_count": 8,
   "id": "2a975a21",
   "metadata": {
    "execution": {
     "iopub.execute_input": "2024-12-22T09:54:12.463239Z",
     "iopub.status.busy": "2024-12-22T09:54:12.462946Z",
     "iopub.status.idle": "2024-12-22T09:54:12.469118Z",
     "shell.execute_reply": "2024-12-22T09:54:12.468229Z"
    },
    "papermill": {
     "duration": 0.012911,
     "end_time": "2024-12-22T09:54:12.470331",
     "exception": false,
     "start_time": "2024-12-22T09:54:12.457420",
     "status": "completed"
    },
    "tags": []
   },
   "outputs": [
    {
     "name": "stdout",
     "output_type": "stream",
     "text": [
      "train:  (77162, 6, 1) (77162, 1, 1)\n",
      "valid:  (9645, 6, 1) (9645, 1, 1)\n",
      "test:  (9640, 6, 1) (9640, 1, 1)\n"
     ]
    }
   ],
   "source": [
    "print('train: ', train_X.shape, train_y.shape)\n",
    "print('valid: ', valid_X.shape, valid_y.shape)\n",
    "print('test: ', test_X.shape, test_y.shape)"
   ]
  },
  {
   "cell_type": "code",
   "execution_count": 9,
   "id": "f81b6d69",
   "metadata": {
    "execution": {
     "iopub.execute_input": "2024-12-22T09:54:12.481284Z",
     "iopub.status.busy": "2024-12-22T09:54:12.480975Z",
     "iopub.status.idle": "2024-12-22T09:54:12.485720Z",
     "shell.execute_reply": "2024-12-22T09:54:12.484865Z"
    },
    "papermill": {
     "duration": 0.011619,
     "end_time": "2024-12-22T09:54:12.486958",
     "exception": false,
     "start_time": "2024-12-22T09:54:12.475339",
     "status": "completed"
    },
    "tags": []
   },
   "outputs": [
    {
     "data": {
      "text/plain": [
       "(6, 1)"
      ]
     },
     "execution_count": 9,
     "metadata": {},
     "output_type": "execute_result"
    }
   ],
   "source": [
    "train_X[0].shape"
   ]
  },
  {
   "cell_type": "markdown",
   "id": "93f1c1e6",
   "metadata": {
    "papermill": {
     "duration": 0.004899,
     "end_time": "2024-12-22T09:54:12.497533",
     "exception": false,
     "start_time": "2024-12-22T09:54:12.492634",
     "status": "completed"
    },
    "tags": []
   },
   "source": [
    "***prepare data for training***"
   ]
  },
  {
   "cell_type": "code",
   "execution_count": 10,
   "id": "856b9a38",
   "metadata": {
    "execution": {
     "iopub.execute_input": "2024-12-22T09:54:12.508547Z",
     "iopub.status.busy": "2024-12-22T09:54:12.508300Z",
     "iopub.status.idle": "2024-12-22T09:54:12.512814Z",
     "shell.execute_reply": "2024-12-22T09:54:12.511920Z"
    },
    "papermill": {
     "duration": 0.011484,
     "end_time": "2024-12-22T09:54:12.514115",
     "exception": false,
     "start_time": "2024-12-22T09:54:12.502631",
     "status": "completed"
    },
    "tags": []
   },
   "outputs": [],
   "source": [
    "class WeatherDataset(Dataset):\n",
    "    def __init__(self, X, y, transform=None):\n",
    "        self.X = X\n",
    "        self.y = y\n",
    "        self.transform = transform\n",
    "\n",
    "    def __len__(self):\n",
    "        return len(self.X)\n",
    "\n",
    "    def __getitem__(self, idx):\n",
    "        \n",
    "        feature = torch.tensor(self.X[idx], dtype=torch.float32) \n",
    "        label = torch.tensor(self.y[idx], dtype=torch.float32)\n",
    "        return feature, label"
   ]
  },
  {
   "cell_type": "code",
   "execution_count": 11,
   "id": "e52989fa",
   "metadata": {
    "execution": {
     "iopub.execute_input": "2024-12-22T09:54:12.525717Z",
     "iopub.status.busy": "2024-12-22T09:54:12.525468Z",
     "iopub.status.idle": "2024-12-22T09:54:12.528774Z",
     "shell.execute_reply": "2024-12-22T09:54:12.528074Z"
    },
    "papermill": {
     "duration": 0.010758,
     "end_time": "2024-12-22T09:54:12.530020",
     "exception": false,
     "start_time": "2024-12-22T09:54:12.519262",
     "status": "completed"
    },
    "tags": []
   },
   "outputs": [],
   "source": [
    "train_dataset = WeatherDataset(train_X, train_y)\n",
    "valid_dataset = WeatherDataset(valid_X, valid_y)\n",
    "test_dataset = WeatherDataset(test_X, test_y)"
   ]
  },
  {
   "cell_type": "code",
   "execution_count": 12,
   "id": "798bc1bf",
   "metadata": {
    "execution": {
     "iopub.execute_input": "2024-12-22T09:54:12.541265Z",
     "iopub.status.busy": "2024-12-22T09:54:12.541000Z",
     "iopub.status.idle": "2024-12-22T09:54:12.544964Z",
     "shell.execute_reply": "2024-12-22T09:54:12.544283Z"
    },
    "papermill": {
     "duration": 0.011025,
     "end_time": "2024-12-22T09:54:12.546247",
     "exception": false,
     "start_time": "2024-12-22T09:54:12.535222",
     "status": "completed"
    },
    "tags": []
   },
   "outputs": [],
   "source": [
    "train_batch_size = 128\n",
    "test_batch_size = 8\n",
    "\n",
    "train_loader = DataLoader(train_dataset, batch_size=train_batch_size, shuffle=False)\n",
    "valid_loader = DataLoader(valid_dataset, batch_size=test_batch_size, shuffle=False)\n",
    "test_loader = DataLoader(test_dataset, batch_size=test_batch_size, shuffle=False)"
   ]
  },
  {
   "cell_type": "code",
   "execution_count": 13,
   "id": "66dca44e",
   "metadata": {
    "execution": {
     "iopub.execute_input": "2024-12-22T09:54:12.557048Z",
     "iopub.status.busy": "2024-12-22T09:54:12.556818Z",
     "iopub.status.idle": "2024-12-22T09:54:12.608493Z",
     "shell.execute_reply": "2024-12-22T09:54:12.607570Z"
    },
    "papermill": {
     "duration": 0.058471,
     "end_time": "2024-12-22T09:54:12.609853",
     "exception": false,
     "start_time": "2024-12-22T09:54:12.551382",
     "status": "completed"
    },
    "tags": []
   },
   "outputs": [
    {
     "data": {
      "text/plain": [
       "torch.Size([128, 6, 1])"
      ]
     },
     "execution_count": 13,
     "metadata": {},
     "output_type": "execute_result"
    }
   ],
   "source": [
    "next(iter(train_loader))[0].shape"
   ]
  },
  {
   "cell_type": "markdown",
   "id": "ad910f97",
   "metadata": {
    "papermill": {
     "duration": 0.00532,
     "end_time": "2024-12-22T09:54:12.620569",
     "exception": false,
     "start_time": "2024-12-22T09:54:12.615249",
     "status": "completed"
    },
    "tags": []
   },
   "source": [
    "# **Model: RNN**"
   ]
  },
  {
   "cell_type": "code",
   "execution_count": 14,
   "id": "53a426bf",
   "metadata": {
    "execution": {
     "iopub.execute_input": "2024-12-22T09:54:12.631806Z",
     "iopub.status.busy": "2024-12-22T09:54:12.631533Z",
     "iopub.status.idle": "2024-12-22T09:54:17.082554Z",
     "shell.execute_reply": "2024-12-22T09:54:17.081166Z"
    },
    "papermill": {
     "duration": 4.459168,
     "end_time": "2024-12-22T09:54:17.084927",
     "exception": false,
     "start_time": "2024-12-22T09:54:12.625759",
     "status": "completed"
    },
    "tags": []
   },
   "outputs": [
    {
     "name": "stdout",
     "output_type": "stream",
     "text": [
      "Requirement already satisfied: torchsummary in /usr/local/lib/python3.10/dist-packages (1.5.1)\r\n"
     ]
    }
   ],
   "source": [
    "!pip install torchsummary\n",
    "from torchsummary import summary"
   ]
  },
  {
   "cell_type": "code",
   "execution_count": 15,
   "id": "21009036",
   "metadata": {
    "execution": {
     "iopub.execute_input": "2024-12-22T09:54:17.097196Z",
     "iopub.status.busy": "2024-12-22T09:54:17.096878Z",
     "iopub.status.idle": "2024-12-22T09:54:17.102428Z",
     "shell.execute_reply": "2024-12-22T09:54:17.101599Z"
    },
    "papermill": {
     "duration": 0.012898,
     "end_time": "2024-12-22T09:54:17.103780",
     "exception": false,
     "start_time": "2024-12-22T09:54:17.090882",
     "status": "completed"
    },
    "tags": []
   },
   "outputs": [],
   "source": [
    "class WeatherFocaster(nn.Module):\n",
    "    def __init__(self, embedding_dim, hidden_dim, num_layers, n_classes, dropout_rate=0.0):\n",
    "        super().__init__()\n",
    "        self.rnn = nn.RNN(embedding_dim, hidden_dim, num_layers, batch_first=True)\n",
    "        self.flatten = nn.Flatten()\n",
    "        self.norm = nn.LayerNorm(hidden_dim)\n",
    "        self.dropout = nn.Dropout(dropout_rate)\n",
    "        self.fc = nn.Linear(hidden_dim, n_classes)       \n",
    "\n",
    "    def forward(self, x):\n",
    "        x, hn = self.rnn(x)\n",
    "        x = x[:, -1, :] # get final word\n",
    "        x = self.flatten(x)\n",
    "        x = self.norm(x)\n",
    "        x = self.dropout(x)\n",
    "        x = self.fc(x)\n",
    "        \n",
    "        return x"
   ]
  },
  {
   "cell_type": "code",
   "execution_count": 16,
   "id": "330d5663",
   "metadata": {
    "execution": {
     "iopub.execute_input": "2024-12-22T09:54:17.115081Z",
     "iopub.status.busy": "2024-12-22T09:54:17.114841Z",
     "iopub.status.idle": "2024-12-22T09:54:17.418912Z",
     "shell.execute_reply": "2024-12-22T09:54:17.418144Z"
    },
    "papermill": {
     "duration": 0.311595,
     "end_time": "2024-12-22T09:54:17.420593",
     "exception": false,
     "start_time": "2024-12-22T09:54:17.108998",
     "status": "completed"
    },
    "tags": []
   },
   "outputs": [],
   "source": [
    "embedding_dim = 1\n",
    "hidden_dim = 16\n",
    "num_layers = 5\n",
    "n_classes = label_size\n",
    "dropout_rate=0.2\n",
    "\n",
    "device = 'cuda' if torch.cuda.is_available() else 'cpu'\n",
    "\n",
    "model = WeatherFocaster(embedding_dim, \n",
    "                        hidden_dim, num_layers, \n",
    "                        n_classes, dropout_rate).to(device)"
   ]
  },
  {
   "cell_type": "code",
   "execution_count": 17,
   "id": "85a8562a",
   "metadata": {
    "execution": {
     "iopub.execute_input": "2024-12-22T09:54:17.432711Z",
     "iopub.status.busy": "2024-12-22T09:54:17.432411Z",
     "iopub.status.idle": "2024-12-22T09:54:17.643388Z",
     "shell.execute_reply": "2024-12-22T09:54:17.642196Z"
    },
    "papermill": {
     "duration": 0.218393,
     "end_time": "2024-12-22T09:54:17.644736",
     "exception": false,
     "start_time": "2024-12-22T09:54:17.426343",
     "status": "completed"
    },
    "tags": []
   },
   "outputs": [
    {
     "name": "stdout",
     "output_type": "stream",
     "text": [
      "----------------------------------------------------------------\n",
      "        Layer (type)               Output Shape         Param #\n",
      "================================================================\n",
      "               RNN-1  [[-1, 12, 16], [-1, 2, 16]]               0\n",
      "           Flatten-2                   [-1, 16]               0\n",
      "         LayerNorm-3                   [-1, 16]              32\n",
      "           Dropout-4                   [-1, 16]               0\n",
      "            Linear-5                    [-1, 1]              17\n",
      "================================================================\n",
      "Total params: 49\n",
      "Trainable params: 49\n",
      "Non-trainable params: 0\n",
      "----------------------------------------------------------------\n",
      "Input size (MB): 0.00\n",
      "Forward/backward pass size (MB): 0.05\n",
      "Params size (MB): 0.00\n",
      "Estimated Total Size (MB): 0.05\n",
      "----------------------------------------------------------------\n"
     ]
    }
   ],
   "source": [
    "summary(model, (12,1))"
   ]
  },
  {
   "cell_type": "markdown",
   "id": "651883ff",
   "metadata": {
    "papermill": {
     "duration": 0.004984,
     "end_time": "2024-12-22T09:54:17.655426",
     "exception": false,
     "start_time": "2024-12-22T09:54:17.650442",
     "status": "completed"
    },
    "tags": []
   },
   "source": [
    "***Training***"
   ]
  },
  {
   "cell_type": "code",
   "execution_count": 18,
   "id": "101b8878",
   "metadata": {
    "execution": {
     "iopub.execute_input": "2024-12-22T09:54:17.666845Z",
     "iopub.status.busy": "2024-12-22T09:54:17.666589Z",
     "iopub.status.idle": "2024-12-22T09:54:17.670967Z",
     "shell.execute_reply": "2024-12-22T09:54:17.670351Z"
    },
    "papermill": {
     "duration": 0.011634,
     "end_time": "2024-12-22T09:54:17.672212",
     "exception": false,
     "start_time": "2024-12-22T09:54:17.660578",
     "status": "completed"
    },
    "tags": []
   },
   "outputs": [],
   "source": [
    "def evaluate(model, dataloader, criterion, device):\n",
    "    model.eval()\n",
    "\n",
    "    losses = []\n",
    "    with torch.no_grad():\n",
    "        for inputs, labels in dataloader:\n",
    "            inputs, labels = inputs.to(device), labels.to(device)\n",
    "            outputs = model(inputs)\n",
    "            loss = criterion(outputs, labels)\n",
    "            losses.append(loss.item())\n",
    "\n",
    "    loss = sum(losses) / len(losses)\n",
    "\n",
    "    return loss"
   ]
  },
  {
   "cell_type": "code",
   "execution_count": 19,
   "id": "6bca988d",
   "metadata": {
    "execution": {
     "iopub.execute_input": "2024-12-22T09:54:17.683294Z",
     "iopub.status.busy": "2024-12-22T09:54:17.683051Z",
     "iopub.status.idle": "2024-12-22T09:54:17.688229Z",
     "shell.execute_reply": "2024-12-22T09:54:17.687428Z"
    },
    "papermill": {
     "duration": 0.01222,
     "end_time": "2024-12-22T09:54:17.689543",
     "exception": false,
     "start_time": "2024-12-22T09:54:17.677323",
     "status": "completed"
    },
    "tags": []
   },
   "outputs": [],
   "source": [
    "def fit(\n",
    "    model,\n",
    "    train_loader,\n",
    "    val_loader,\n",
    "    criterion,\n",
    "    optimizer,\n",
    "    device,\n",
    "    epochs\n",
    "):\n",
    "    train_losses = []\n",
    "    val_losses = []\n",
    "\n",
    "    for epoch in range(epochs):\n",
    "        batch_train_losses = []\n",
    "\n",
    "        model.train()\n",
    "        for idx, (inputs, labels) in enumerate(train_loader):\n",
    "            inputs, labels = inputs.to(device), labels.to(device)\n",
    "\n",
    "            optimizer.zero_grad()\n",
    "            outputs = model(inputs)\n",
    "            loss = criterion(outputs, labels)\n",
    "            loss.backward()\n",
    "            optimizer.step()\n",
    "\n",
    "            batch_train_losses.append(loss.item())\n",
    "\n",
    "        train_loss = sum(batch_train_losses) / len(batch_train_losses)\n",
    "        train_losses.append(train_loss)\n",
    "\n",
    "        val_loss = evaluate(\n",
    "            model, val_loader,\n",
    "            criterion, device\n",
    "        )\n",
    "        val_losses.append(val_loss)\n",
    "\n",
    "        print(f'EPOCH {epoch + 1}:\\tTrain loss: {train_loss:.4f}\\tVal loss: {val_loss:.4f}')\n",
    "\n",
    "    return train_losses, val_losses"
   ]
  },
  {
   "cell_type": "code",
   "execution_count": 20,
   "id": "c78ee4af",
   "metadata": {
    "execution": {
     "iopub.execute_input": "2024-12-22T09:54:17.700760Z",
     "iopub.status.busy": "2024-12-22T09:54:17.700542Z",
     "iopub.status.idle": "2024-12-22T09:54:18.907870Z",
     "shell.execute_reply": "2024-12-22T09:54:18.906809Z"
    },
    "papermill": {
     "duration": 1.214744,
     "end_time": "2024-12-22T09:54:18.909606",
     "exception": false,
     "start_time": "2024-12-22T09:54:17.694862",
     "status": "completed"
    },
    "tags": []
   },
   "outputs": [],
   "source": [
    "lr = 1e-3\n",
    "epochs = 50\n",
    "\n",
    "criterion = nn.MSELoss()\n",
    "optimizer = torch.optim.Adam(\n",
    "    model.parameters(),\n",
    "    lr=lr\n",
    ")"
   ]
  },
  {
   "cell_type": "code",
   "execution_count": 21,
   "id": "9c1603b8",
   "metadata": {
    "execution": {
     "iopub.execute_input": "2024-12-22T09:54:18.923172Z",
     "iopub.status.busy": "2024-12-22T09:54:18.922741Z",
     "iopub.status.idle": "2024-12-22T09:57:33.798392Z",
     "shell.execute_reply": "2024-12-22T09:57:33.797411Z"
    },
    "papermill": {
     "duration": 194.883195,
     "end_time": "2024-12-22T09:57:33.799678",
     "exception": false,
     "start_time": "2024-12-22T09:54:18.916483",
     "status": "completed"
    },
    "tags": []
   },
   "outputs": [
    {
     "name": "stderr",
     "output_type": "stream",
     "text": [
      "/usr/local/lib/python3.10/dist-packages/torch/nn/modules/loss.py:538: UserWarning: Using a target size (torch.Size([128, 1, 1])) that is different to the input size (torch.Size([128, 1])). This will likely lead to incorrect results due to broadcasting. Please ensure they have the same size.\n",
      "  return F.mse_loss(input, target, reduction=self.reduction)\n",
      "/usr/local/lib/python3.10/dist-packages/torch/nn/modules/loss.py:538: UserWarning: Using a target size (torch.Size([106, 1, 1])) that is different to the input size (torch.Size([106, 1])). This will likely lead to incorrect results due to broadcasting. Please ensure they have the same size.\n",
      "  return F.mse_loss(input, target, reduction=self.reduction)\n",
      "/usr/local/lib/python3.10/dist-packages/torch/nn/modules/loss.py:538: UserWarning: Using a target size (torch.Size([8, 1, 1])) that is different to the input size (torch.Size([8, 1])). This will likely lead to incorrect results due to broadcasting. Please ensure they have the same size.\n",
      "  return F.mse_loss(input, target, reduction=self.reduction)\n",
      "/usr/local/lib/python3.10/dist-packages/torch/nn/modules/loss.py:538: UserWarning: Using a target size (torch.Size([5, 1, 1])) that is different to the input size (torch.Size([5, 1])). This will likely lead to incorrect results due to broadcasting. Please ensure they have the same size.\n",
      "  return F.mse_loss(input, target, reduction=self.reduction)\n"
     ]
    },
    {
     "name": "stdout",
     "output_type": "stream",
     "text": [
      "EPOCH 1:\tTrain loss: 114.0904\tVal loss: 49.5011\n",
      "EPOCH 2:\tTrain loss: 54.6345\tVal loss: 28.8503\n",
      "EPOCH 3:\tTrain loss: 49.0529\tVal loss: 23.5109\n",
      "EPOCH 4:\tTrain loss: 47.9101\tVal loss: 22.4292\n",
      "EPOCH 5:\tTrain loss: 47.2386\tVal loss: 20.8421\n",
      "EPOCH 6:\tTrain loss: 46.7086\tVal loss: 20.4508\n",
      "EPOCH 7:\tTrain loss: 46.3199\tVal loss: 20.1518\n",
      "EPOCH 8:\tTrain loss: 45.8202\tVal loss: 19.6440\n",
      "EPOCH 9:\tTrain loss: 45.4908\tVal loss: 19.6500\n",
      "EPOCH 10:\tTrain loss: 45.7216\tVal loss: 19.8863\n",
      "EPOCH 11:\tTrain loss: 45.2014\tVal loss: 19.4938\n",
      "EPOCH 12:\tTrain loss: 44.9262\tVal loss: 19.6528\n",
      "EPOCH 13:\tTrain loss: 44.7694\tVal loss: 20.2549\n",
      "EPOCH 14:\tTrain loss: 44.3832\tVal loss: 19.0152\n",
      "EPOCH 15:\tTrain loss: 44.3732\tVal loss: 19.0698\n",
      "EPOCH 16:\tTrain loss: 44.5174\tVal loss: 19.5745\n",
      "EPOCH 17:\tTrain loss: 44.0490\tVal loss: 18.8598\n",
      "EPOCH 18:\tTrain loss: 43.8376\tVal loss: 18.7391\n",
      "EPOCH 19:\tTrain loss: 43.6755\tVal loss: 18.8997\n",
      "EPOCH 20:\tTrain loss: 43.3399\tVal loss: 18.9852\n",
      "EPOCH 21:\tTrain loss: 43.6710\tVal loss: 18.7250\n",
      "EPOCH 22:\tTrain loss: 43.6268\tVal loss: 18.0267\n",
      "EPOCH 23:\tTrain loss: 43.1939\tVal loss: 18.3450\n",
      "EPOCH 24:\tTrain loss: 43.1041\tVal loss: 18.7269\n",
      "EPOCH 25:\tTrain loss: 43.0711\tVal loss: 18.1915\n",
      "EPOCH 26:\tTrain loss: 42.9902\tVal loss: 18.3169\n",
      "EPOCH 27:\tTrain loss: 42.9341\tVal loss: 18.0201\n",
      "EPOCH 28:\tTrain loss: 42.7309\tVal loss: 18.4281\n",
      "EPOCH 29:\tTrain loss: 42.7850\tVal loss: 18.3129\n",
      "EPOCH 30:\tTrain loss: 42.5766\tVal loss: 18.2800\n",
      "EPOCH 31:\tTrain loss: 42.5201\tVal loss: 18.1783\n",
      "EPOCH 32:\tTrain loss: 42.4076\tVal loss: 18.1020\n",
      "EPOCH 33:\tTrain loss: 42.4428\tVal loss: 18.1758\n",
      "EPOCH 34:\tTrain loss: 42.3750\tVal loss: 18.1644\n",
      "EPOCH 35:\tTrain loss: 42.3181\tVal loss: 18.0666\n",
      "EPOCH 36:\tTrain loss: 42.2240\tVal loss: 17.9732\n",
      "EPOCH 37:\tTrain loss: 42.2827\tVal loss: 18.0490\n",
      "EPOCH 38:\tTrain loss: 42.1961\tVal loss: 17.9041\n",
      "EPOCH 39:\tTrain loss: 42.2044\tVal loss: 17.7155\n",
      "EPOCH 40:\tTrain loss: 42.0722\tVal loss: 17.8017\n",
      "EPOCH 41:\tTrain loss: 42.0924\tVal loss: 17.9389\n",
      "EPOCH 42:\tTrain loss: 42.0414\tVal loss: 17.8053\n",
      "EPOCH 43:\tTrain loss: 42.0172\tVal loss: 17.9821\n",
      "EPOCH 44:\tTrain loss: 42.0182\tVal loss: 17.6826\n",
      "EPOCH 45:\tTrain loss: 41.8608\tVal loss: 18.2060\n",
      "EPOCH 46:\tTrain loss: 41.7875\tVal loss: 17.8269\n",
      "EPOCH 47:\tTrain loss: 41.7970\tVal loss: 17.7771\n",
      "EPOCH 48:\tTrain loss: 41.7714\tVal loss: 17.7756\n",
      "EPOCH 49:\tTrain loss: 41.7240\tVal loss: 17.6975\n",
      "EPOCH 50:\tTrain loss: 41.7675\tVal loss: 17.8238\n"
     ]
    }
   ],
   "source": [
    "train_losses, val_losses = fit(\n",
    "    model,\n",
    "    train_loader,\n",
    "    valid_loader,\n",
    "    criterion,\n",
    "    optimizer,\n",
    "    device,\n",
    "    epochs\n",
    ")"
   ]
  },
  {
   "cell_type": "code",
   "execution_count": 22,
   "id": "61296b09",
   "metadata": {
    "execution": {
     "iopub.execute_input": "2024-12-22T09:57:33.816090Z",
     "iopub.status.busy": "2024-12-22T09:57:33.815792Z",
     "iopub.status.idle": "2024-12-22T09:57:34.206112Z",
     "shell.execute_reply": "2024-12-22T09:57:34.205224Z"
    },
    "papermill": {
     "duration": 0.400034,
     "end_time": "2024-12-22T09:57:34.207518",
     "exception": false,
     "start_time": "2024-12-22T09:57:33.807484",
     "status": "completed"
    },
    "tags": []
   },
   "outputs": [
    {
     "data": {
      "image/png": "[encoded data removed]",
      "text/plain": [
       "<Figure size 1200x500 with 2 Axes>"
      ]
     },
     "metadata": {},
     "output_type": "display_data"
    }
   ],
   "source": [
    "fig, ax = plt.subplots(1, 2, figsize=(12, 5))\n",
    "ax[0].plot(train_losses)\n",
    "ax[0].set_title('Training Loss')\n",
    "ax[0].set_xlabel('Epoch')\n",
    "ax[0].set_ylabel('Loss')\n",
    "ax[1].plot(val_losses, color='orange')\n",
    "ax[1].set_title('Val Loss')\n",
    "ax[1].set_xlabel('Epoch')\n",
    "ax[1].set_ylabel('Loss')\n",
    "plt.show()"
   ]
  },
  {
   "cell_type": "code",
   "execution_count": 23,
   "id": "22bd2836",
   "metadata": {
    "execution": {
     "iopub.execute_input": "2024-12-22T09:57:34.225354Z",
     "iopub.status.busy": "2024-12-22T09:57:34.225080Z",
     "iopub.status.idle": "2024-12-22T09:57:36.221430Z",
     "shell.execute_reply": "2024-12-22T09:57:36.220315Z"
    },
    "papermill": {
     "duration": 2.007077,
     "end_time": "2024-12-22T09:57:36.222987",
     "exception": false,
     "start_time": "2024-12-22T09:57:34.215910",
     "status": "completed"
    },
    "tags": []
   },
   "outputs": [
    {
     "name": "stdout",
     "output_type": "stream",
     "text": [
      "Evaluation on val/test dataset\n",
      "Val loss:  17.823783773564383\n",
      "Test loss:  15.828515340876283\n"
     ]
    }
   ],
   "source": [
    "val_loss = evaluate(\n",
    "    model,\n",
    "    valid_loader,\n",
    "    criterion,\n",
    "    device\n",
    ")\n",
    "test_loss = evaluate(\n",
    "    model,\n",
    "    test_loader,\n",
    "    criterion,\n",
    "    device\n",
    ")\n",
    "\n",
    "print('Evaluation on val/test dataset')\n",
    "print('Val loss: ', val_loss)\n",
    "print('Test loss: ', test_loss)"
   ]
  },
  {
   "cell_type": "code",
   "execution_count": 24,
   "id": "74ee024e",
   "metadata": {
    "execution": {
     "iopub.execute_input": "2024-12-22T09:57:36.241589Z",
     "iopub.status.busy": "2024-12-22T09:57:36.241286Z",
     "iopub.status.idle": "2024-12-22T09:57:36.559936Z",
     "shell.execute_reply": "2024-12-22T09:57:36.559060Z"
    },
    "papermill": {
     "duration": 0.330145,
     "end_time": "2024-12-22T09:57:36.561991",
     "exception": false,
     "start_time": "2024-12-22T09:57:36.231846",
     "status": "completed"
    },
    "tags": []
   },
   "outputs": [
    {
     "data": {
      "image/png": "[encoded data removed]",
      "text/plain": [
       "<Figure size 2000x600 with 1 Axes>"
      ]
     },
     "metadata": {},
     "output_type": "display_data"
    }
   ],
   "source": [
    "def plot_difference(y, pred):\n",
    "    plt.figure(figsize=(20, 6))\n",
    "    times = range(len(y))\n",
    "    y_to_plot = y.flatten()\n",
    "    pred_to_plot = pred.flatten()\n",
    "\n",
    "    plt.plot(times, y_to_plot, color='steelblue', marker='o', label='True value')\n",
    "    plt.plot(times, pred_to_plot, color='orangered', marker='X', label='Prediction')\n",
    "\n",
    "    plt.title('Temperature in every hours')\n",
    "    plt.xlabel('Hour')\n",
    "    plt.ylabel('Temperature (C)')\n",
    "    plt.legend()\n",
    "    plt.show()\n",
    "\n",
    "inputs = torch.tensor(test_X[:100], dtype=torch.float32).to(device)\n",
    "model.eval()\n",
    "with torch.no_grad():\n",
    "    outputs = model(inputs).detach().cpu().numpy()\n",
    "plot_difference(test_y[:100], outputs)"
   ]
  }
 ],
 "metadata": {
  "kaggle": {
   "accelerator": "gpu",
   "dataSources": [
    {
     "datasetId": 6352266,
     "sourceId": 10267525,
     "sourceType": "datasetVersion"
    }
   ],
   "dockerImageVersionId": 30822,
   "isGpuEnabled": true,
   "isInternetEnabled": true,
   "language": "python",
   "sourceType": "notebook"
  },
  "kernelspec": {
   "display_name": "Python 3",
   "language": "python",
   "name": "python3"
  },
  "language_info": {
   "codemirror_mode": {
    "name": "ipython",
    "version": 3
   },
   "file_extension": ".py",
   "mimetype": "text/x-python",
   "name": "python",
   "nbconvert_exporter": "python",
   "pygments_lexer": "ipython3",
   "version": "3.10.12"
  },
  "papermill": {
   "default_parameters": {},
   "duration": 217.819517,
   "end_time": "2024-12-22T09:57:39.233421",
   "environment_variables": {},
   "exception": null,
   "input_path": "__notebook__.ipynb",
   "output_path": "__notebook__.ipynb",
   "parameters": {},
   "start_time": "2024-12-22T09:54:01.413904",
   "version": "2.6.0"
  }
 },
 "nbformat": 4,
 "nbformat_minor": 5
}
