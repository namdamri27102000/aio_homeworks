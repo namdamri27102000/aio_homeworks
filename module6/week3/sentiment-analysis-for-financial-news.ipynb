{
 "cells": [
  {
   "cell_type": "code",
   "execution_count": 1,
   "id": "4e9d4310",
   "metadata": {
    "_cell_guid": "b1076dfc-b9ad-4769-8c92-a6c4dae69d19",
    "_uuid": "8f2839f25d086af736a60e9eeb907d3b93b6e0e5",
    "execution": {
     "iopub.execute_input": "2024-12-22T00:49:47.784214Z",
     "iopub.status.busy": "2024-12-22T00:49:47.783751Z",
     "iopub.status.idle": "2024-12-22T00:49:54.040846Z",
     "shell.execute_reply": "2024-12-22T00:49:54.039485Z"
    },
    "papermill": {
     "duration": 6.268287,
     "end_time": "2024-12-22T00:49:54.043199",
     "exception": false,
     "start_time": "2024-12-22T00:49:47.774912",
     "status": "completed"
    },
    "tags": []
   },
   "outputs": [],
   "source": [
    "import pandas as pd\n",
    "import numpy as np\n",
    "import torch\n",
    "import torch.nn as nn\n",
    "from torch.utils.data import Dataset, DataLoader\n",
    "from sklearn.model_selection import train_test_split\n",
    "import random\n",
    "import matplotlib.pyplot as plt"
   ]
  },
  {
   "cell_type": "code",
   "execution_count": 2,
   "id": "3c7dcd1b",
   "metadata": {
    "execution": {
     "iopub.execute_input": "2024-12-22T00:49:54.059124Z",
     "iopub.status.busy": "2024-12-22T00:49:54.058536Z",
     "iopub.status.idle": "2024-12-22T00:49:54.071065Z",
     "shell.execute_reply": "2024-12-22T00:49:54.069806Z"
    },
    "papermill": {
     "duration": 0.022935,
     "end_time": "2024-12-22T00:49:54.073347",
     "exception": false,
     "start_time": "2024-12-22T00:49:54.050412",
     "status": "completed"
    },
    "tags": []
   },
   "outputs": [],
   "source": [
    "def set_seed(seed):\n",
    "    random.seed(seed)\n",
    "    np.random.seed(seed)\n",
    "    torch.manual_seed(seed)\n",
    "    torch.cuda.manual_seed(seed)\n",
    "    torch.cuda.manual_seed_all(seed)\n",
    "    torch.backends.cudnn.deterministic = True\n",
    "    torch.backends.cudnn.benchmark = False\n",
    "\n",
    "seed = 1\n",
    "set_seed(seed)"
   ]
  },
  {
   "cell_type": "markdown",
   "id": "0d8153bd",
   "metadata": {
    "papermill": {
     "duration": 0.006263,
     "end_time": "2024-12-22T00:49:54.086442",
     "exception": false,
     "start_time": "2024-12-22T00:49:54.080179",
     "status": "completed"
    },
    "tags": []
   },
   "source": [
    "# **1. Sentiment Analysis for Financial News**"
   ]
  },
  {
   "cell_type": "markdown",
   "id": "2722119c",
   "metadata": {
    "papermill": {
     "duration": 0.006314,
     "end_time": "2024-12-22T00:49:54.099288",
     "exception": false,
     "start_time": "2024-12-22T00:49:54.092974",
     "status": "completed"
    },
    "tags": []
   },
   "source": [
    "# **Data**"
   ]
  },
  {
   "cell_type": "code",
   "execution_count": 3,
   "id": "2771a828",
   "metadata": {
    "execution": {
     "iopub.execute_input": "2024-12-22T00:49:54.113532Z",
     "iopub.status.busy": "2024-12-22T00:49:54.113168Z",
     "iopub.status.idle": "2024-12-22T00:49:54.175164Z",
     "shell.execute_reply": "2024-12-22T00:49:54.174064Z"
    },
    "papermill": {
     "duration": 0.071136,
     "end_time": "2024-12-22T00:49:54.176878",
     "exception": false,
     "start_time": "2024-12-22T00:49:54.105742",
     "status": "completed"
    },
    "tags": []
   },
   "outputs": [
    {
     "data": {
      "text/html": [
       "<div>\n",
       "<style scoped>\n",
       "    .dataframe tbody tr th:only-of-type {\n",
       "        vertical-align: middle;\n",
       "    }\n",
       "\n",
       "    .dataframe tbody tr th {\n",
       "        vertical-align: top;\n",
       "    }\n",
       "\n",
       "    .dataframe thead th {\n",
       "        text-align: right;\n",
       "    }\n",
       "</style>\n",
       "<table border=\"1\" class=\"dataframe\">\n",
       "  <thead>\n",
       "    <tr style=\"text-align: right;\">\n",
       "      <th></th>\n",
       "      <th>sentiment</th>\n",
       "      <th>content</th>\n",
       "    </tr>\n",
       "  </thead>\n",
       "  <tbody>\n",
       "    <tr>\n",
       "      <th>0</th>\n",
       "      <td>neutral</td>\n",
       "      <td>According to Gran , the company has no plans t...</td>\n",
       "    </tr>\n",
       "    <tr>\n",
       "      <th>1</th>\n",
       "      <td>neutral</td>\n",
       "      <td>Technopolis plans to develop in stages an area...</td>\n",
       "    </tr>\n",
       "    <tr>\n",
       "      <th>2</th>\n",
       "      <td>negative</td>\n",
       "      <td>The international electronic industry company ...</td>\n",
       "    </tr>\n",
       "    <tr>\n",
       "      <th>3</th>\n",
       "      <td>positive</td>\n",
       "      <td>With the new production plant the company woul...</td>\n",
       "    </tr>\n",
       "    <tr>\n",
       "      <th>4</th>\n",
       "      <td>positive</td>\n",
       "      <td>According to the company 's updated strategy f...</td>\n",
       "    </tr>\n",
       "    <tr>\n",
       "      <th>...</th>\n",
       "      <td>...</td>\n",
       "      <td>...</td>\n",
       "    </tr>\n",
       "    <tr>\n",
       "      <th>4841</th>\n",
       "      <td>negative</td>\n",
       "      <td>LONDON MarketWatch -- Share prices ended lower...</td>\n",
       "    </tr>\n",
       "    <tr>\n",
       "      <th>4842</th>\n",
       "      <td>neutral</td>\n",
       "      <td>Rinkuskiai 's beer sales fell by 6.5 per cent ...</td>\n",
       "    </tr>\n",
       "    <tr>\n",
       "      <th>4843</th>\n",
       "      <td>negative</td>\n",
       "      <td>Operating profit fell to EUR 35.4 mn from EUR ...</td>\n",
       "    </tr>\n",
       "    <tr>\n",
       "      <th>4844</th>\n",
       "      <td>negative</td>\n",
       "      <td>Net sales of the Paper segment decreased to EU...</td>\n",
       "    </tr>\n",
       "    <tr>\n",
       "      <th>4845</th>\n",
       "      <td>negative</td>\n",
       "      <td>Sales in Finland decreased by 10.5 % in Januar...</td>\n",
       "    </tr>\n",
       "  </tbody>\n",
       "</table>\n",
       "<p>4846 rows × 2 columns</p>\n",
       "</div>"
      ],
      "text/plain": [
       "     sentiment                                            content\n",
       "0      neutral  According to Gran , the company has no plans t...\n",
       "1      neutral  Technopolis plans to develop in stages an area...\n",
       "2     negative  The international electronic industry company ...\n",
       "3     positive  With the new production plant the company woul...\n",
       "4     positive  According to the company 's updated strategy f...\n",
       "...        ...                                                ...\n",
       "4841  negative  LONDON MarketWatch -- Share prices ended lower...\n",
       "4842   neutral  Rinkuskiai 's beer sales fell by 6.5 per cent ...\n",
       "4843  negative  Operating profit fell to EUR 35.4 mn from EUR ...\n",
       "4844  negative  Net sales of the Paper segment decreased to EU...\n",
       "4845  negative  Sales in Finland decreased by 10.5 % in Januar...\n",
       "\n",
       "[4846 rows x 2 columns]"
      ]
     },
     "execution_count": 3,
     "metadata": {},
     "output_type": "execute_result"
    }
   ],
   "source": [
    "data_path = '/kaggle/input/aio-datasets/module6 - w3 - dataset/all-data.csv'\n",
    "df = pd.read_csv(data_path, names=['sentiment', 'content'], encoding='ISO-8859-1')\n",
    "df"
   ]
  },
  {
   "cell_type": "code",
   "execution_count": 4,
   "id": "8fa29239",
   "metadata": {
    "execution": {
     "iopub.execute_input": "2024-12-22T00:49:54.191984Z",
     "iopub.status.busy": "2024-12-22T00:49:54.191572Z",
     "iopub.status.idle": "2024-12-22T00:49:54.202174Z",
     "shell.execute_reply": "2024-12-22T00:49:54.201294Z"
    },
    "papermill": {
     "duration": 0.020107,
     "end_time": "2024-12-22T00:49:54.204004",
     "exception": false,
     "start_time": "2024-12-22T00:49:54.183897",
     "status": "completed"
    },
    "tags": []
   },
   "outputs": [
    {
     "data": {
      "text/plain": [
       "{'neutral': 0, 'negative': 1, 'positive': 2}"
      ]
     },
     "execution_count": 4,
     "metadata": {},
     "output_type": "execute_result"
    }
   ],
   "source": [
    "class_dict = {class_name : idx for idx, class_name in enumerate(df['sentiment'].unique().tolist())}\n",
    "class_dict"
   ]
  },
  {
   "cell_type": "code",
   "execution_count": 5,
   "id": "4e164e57",
   "metadata": {
    "execution": {
     "iopub.execute_input": "2024-12-22T00:49:54.219986Z",
     "iopub.status.busy": "2024-12-22T00:49:54.219574Z",
     "iopub.status.idle": "2024-12-22T00:49:54.225676Z",
     "shell.execute_reply": "2024-12-22T00:49:54.224641Z"
    },
    "papermill": {
     "duration": 0.016044,
     "end_time": "2024-12-22T00:49:54.227679",
     "exception": false,
     "start_time": "2024-12-22T00:49:54.211635",
     "status": "completed"
    },
    "tags": []
   },
   "outputs": [
    {
     "data": {
      "text/plain": [
       "0"
      ]
     },
     "execution_count": 5,
     "metadata": {},
     "output_type": "execute_result"
    }
   ],
   "source": [
    "class_dict['neutral']"
   ]
  },
  {
   "cell_type": "code",
   "execution_count": 6,
   "id": "30e37f82",
   "metadata": {
    "execution": {
     "iopub.execute_input": "2024-12-22T00:49:54.243542Z",
     "iopub.status.busy": "2024-12-22T00:49:54.243147Z",
     "iopub.status.idle": "2024-12-22T00:49:54.259007Z",
     "shell.execute_reply": "2024-12-22T00:49:54.257916Z"
    },
    "papermill": {
     "duration": 0.025848,
     "end_time": "2024-12-22T00:49:54.260760",
     "exception": false,
     "start_time": "2024-12-22T00:49:54.234912",
     "status": "completed"
    },
    "tags": []
   },
   "outputs": [
    {
     "data": {
      "text/html": [
       "<div>\n",
       "<style scoped>\n",
       "    .dataframe tbody tr th:only-of-type {\n",
       "        vertical-align: middle;\n",
       "    }\n",
       "\n",
       "    .dataframe tbody tr th {\n",
       "        vertical-align: top;\n",
       "    }\n",
       "\n",
       "    .dataframe thead th {\n",
       "        text-align: right;\n",
       "    }\n",
       "</style>\n",
       "<table border=\"1\" class=\"dataframe\">\n",
       "  <thead>\n",
       "    <tr style=\"text-align: right;\">\n",
       "      <th></th>\n",
       "      <th>sentiment</th>\n",
       "      <th>content</th>\n",
       "    </tr>\n",
       "  </thead>\n",
       "  <tbody>\n",
       "    <tr>\n",
       "      <th>0</th>\n",
       "      <td>0</td>\n",
       "      <td>According to Gran , the company has no plans t...</td>\n",
       "    </tr>\n",
       "    <tr>\n",
       "      <th>1</th>\n",
       "      <td>0</td>\n",
       "      <td>Technopolis plans to develop in stages an area...</td>\n",
       "    </tr>\n",
       "    <tr>\n",
       "      <th>2</th>\n",
       "      <td>1</td>\n",
       "      <td>The international electronic industry company ...</td>\n",
       "    </tr>\n",
       "    <tr>\n",
       "      <th>3</th>\n",
       "      <td>2</td>\n",
       "      <td>With the new production plant the company woul...</td>\n",
       "    </tr>\n",
       "    <tr>\n",
       "      <th>4</th>\n",
       "      <td>2</td>\n",
       "      <td>According to the company 's updated strategy f...</td>\n",
       "    </tr>\n",
       "    <tr>\n",
       "      <th>...</th>\n",
       "      <td>...</td>\n",
       "      <td>...</td>\n",
       "    </tr>\n",
       "    <tr>\n",
       "      <th>4841</th>\n",
       "      <td>1</td>\n",
       "      <td>LONDON MarketWatch -- Share prices ended lower...</td>\n",
       "    </tr>\n",
       "    <tr>\n",
       "      <th>4842</th>\n",
       "      <td>0</td>\n",
       "      <td>Rinkuskiai 's beer sales fell by 6.5 per cent ...</td>\n",
       "    </tr>\n",
       "    <tr>\n",
       "      <th>4843</th>\n",
       "      <td>1</td>\n",
       "      <td>Operating profit fell to EUR 35.4 mn from EUR ...</td>\n",
       "    </tr>\n",
       "    <tr>\n",
       "      <th>4844</th>\n",
       "      <td>1</td>\n",
       "      <td>Net sales of the Paper segment decreased to EU...</td>\n",
       "    </tr>\n",
       "    <tr>\n",
       "      <th>4845</th>\n",
       "      <td>1</td>\n",
       "      <td>Sales in Finland decreased by 10.5 % in Januar...</td>\n",
       "    </tr>\n",
       "  </tbody>\n",
       "</table>\n",
       "<p>4846 rows × 2 columns</p>\n",
       "</div>"
      ],
      "text/plain": [
       "      sentiment                                            content\n",
       "0             0  According to Gran , the company has no plans t...\n",
       "1             0  Technopolis plans to develop in stages an area...\n",
       "2             1  The international electronic industry company ...\n",
       "3             2  With the new production plant the company woul...\n",
       "4             2  According to the company 's updated strategy f...\n",
       "...         ...                                                ...\n",
       "4841          1  LONDON MarketWatch -- Share prices ended lower...\n",
       "4842          0  Rinkuskiai 's beer sales fell by 6.5 per cent ...\n",
       "4843          1  Operating profit fell to EUR 35.4 mn from EUR ...\n",
       "4844          1  Net sales of the Paper segment decreased to EU...\n",
       "4845          1  Sales in Finland decreased by 10.5 % in Januar...\n",
       "\n",
       "[4846 rows x 2 columns]"
      ]
     },
     "execution_count": 6,
     "metadata": {},
     "output_type": "execute_result"
    }
   ],
   "source": [
    "df['sentiment'] = df['sentiment'].apply(lambda x: class_dict[x])\n",
    "df"
   ]
  },
  {
   "cell_type": "markdown",
   "id": "9ebeb3b1",
   "metadata": {
    "papermill": {
     "duration": 0.006956,
     "end_time": "2024-12-22T00:49:54.275052",
     "exception": false,
     "start_time": "2024-12-22T00:49:54.268096",
     "status": "completed"
    },
    "tags": []
   },
   "source": [
    "***Preprocessing data***"
   ]
  },
  {
   "cell_type": "code",
   "execution_count": 7,
   "id": "81ba5ee6",
   "metadata": {
    "execution": {
     "iopub.execute_input": "2024-12-22T00:49:54.290488Z",
     "iopub.status.busy": "2024-12-22T00:49:54.290140Z",
     "iopub.status.idle": "2024-12-22T00:49:54.992909Z",
     "shell.execute_reply": "2024-12-22T00:49:54.991720Z"
    },
    "papermill": {
     "duration": 0.712864,
     "end_time": "2024-12-22T00:49:54.994957",
     "exception": false,
     "start_time": "2024-12-22T00:49:54.282093",
     "status": "completed"
    },
    "tags": []
   },
   "outputs": [],
   "source": [
    "import nltk\n",
    "from nltk.stem.porter import PorterStemmer\n",
    "import string\n",
    "import re"
   ]
  },
  {
   "cell_type": "code",
   "execution_count": 8,
   "id": "2db042e8",
   "metadata": {
    "execution": {
     "iopub.execute_input": "2024-12-22T00:49:55.011990Z",
     "iopub.status.busy": "2024-12-22T00:49:55.011592Z",
     "iopub.status.idle": "2024-12-22T00:49:55.017597Z",
     "shell.execute_reply": "2024-12-22T00:49:55.016417Z"
    },
    "papermill": {
     "duration": 0.016448,
     "end_time": "2024-12-22T00:49:55.019531",
     "exception": false,
     "start_time": "2024-12-22T00:49:55.003083",
     "status": "completed"
    },
    "tags": []
   },
   "outputs": [],
   "source": [
    "# preprocessing: remove stopword, punctuation, lowercase, steaming\n",
    "def preprocessing(text, stemmer):\n",
    "    punc = string.punctuation\n",
    "    text = text.lower()\n",
    "    text = text.translate(str.maketrans('', '', punc))\n",
    "    new_text = []\n",
    "    stopwords = nltk.corpus.stopwords.words('english')\n",
    "    for word in text.split(' '):\n",
    "        if word in stopwords:\n",
    "            new_text.append('')\n",
    "        else:\n",
    "            new_text.append(stemmer.stem(word))\n",
    "           \n",
    "    return \" \".join(new_text)"
   ]
  },
  {
   "cell_type": "code",
   "execution_count": 9,
   "id": "92991f2e",
   "metadata": {
    "execution": {
     "iopub.execute_input": "2024-12-22T00:49:55.035279Z",
     "iopub.status.busy": "2024-12-22T00:49:55.034898Z",
     "iopub.status.idle": "2024-12-22T00:49:57.299599Z",
     "shell.execute_reply": "2024-12-22T00:49:57.297996Z"
    },
    "papermill": {
     "duration": 2.274751,
     "end_time": "2024-12-22T00:49:57.301513",
     "exception": false,
     "start_time": "2024-12-22T00:49:55.026762",
     "status": "completed"
    },
    "tags": []
   },
   "outputs": [],
   "source": [
    "df['content'] = df['content'].apply(lambda x: preprocessing(x, PorterStemmer()))"
   ]
  },
  {
   "cell_type": "code",
   "execution_count": 10,
   "id": "b026df97",
   "metadata": {
    "execution": {
     "iopub.execute_input": "2024-12-22T00:49:57.317105Z",
     "iopub.status.busy": "2024-12-22T00:49:57.316688Z",
     "iopub.status.idle": "2024-12-22T00:49:58.867087Z",
     "shell.execute_reply": "2024-12-22T00:49:58.865964Z"
    },
    "papermill": {
     "duration": 1.560464,
     "end_time": "2024-12-22T00:49:58.869150",
     "exception": false,
     "start_time": "2024-12-22T00:49:57.308686",
     "status": "completed"
    },
    "tags": []
   },
   "outputs": [
    {
     "name": "stdout",
     "output_type": "stream",
     "text": [
      "8914\n"
     ]
    }
   ],
   "source": [
    "vocab = ['UNK', 'PAD']\n",
    "for li in df['content'].tolist():\n",
    "    words = li.split()\n",
    "    for w in words:\n",
    "        if w not in vocab:\n",
    "            vocab.append(w)\n",
    "vocab_dict = {word: idx for idx, word in enumerate(vocab)}\n",
    "print(len(vocab_dict))"
   ]
  },
  {
   "cell_type": "code",
   "execution_count": 11,
   "id": "72a493ec",
   "metadata": {
    "execution": {
     "iopub.execute_input": "2024-12-22T00:49:58.885177Z",
     "iopub.status.busy": "2024-12-22T00:49:58.884744Z",
     "iopub.status.idle": "2024-12-22T00:49:58.891073Z",
     "shell.execute_reply": "2024-12-22T00:49:58.889843Z"
    },
    "papermill": {
     "duration": 0.01615,
     "end_time": "2024-12-22T00:49:58.892913",
     "exception": false,
     "start_time": "2024-12-22T00:49:58.876763",
     "status": "completed"
    },
    "tags": []
   },
   "outputs": [],
   "source": [
    "def word_to_number(sequence, seq_length, vocab_dict):\n",
    "    words = sequence.split()\n",
    "    index_vector = []\n",
    "    for word in words:\n",
    "        try:\n",
    "            index_vector.append(vocab_dict[word])\n",
    "        except:\n",
    "            index_vector.append(vocab_dict['UNK'])\n",
    "    if len(words) < seq_length:\n",
    "        for i in range(len(words), seq_length):\n",
    "            index_vector.append(vocab_dict['PAD'])\n",
    "    else:\n",
    "        index_vector = index_vector[:seq_length]\n",
    "    return index_vector"
   ]
  },
  {
   "cell_type": "markdown",
   "id": "140d282f",
   "metadata": {
    "papermill": {
     "duration": 0.006936,
     "end_time": "2024-12-22T00:49:58.907142",
     "exception": false,
     "start_time": "2024-12-22T00:49:58.900206",
     "status": "completed"
    },
    "tags": []
   },
   "source": [
    "***prepare data for training***"
   ]
  },
  {
   "cell_type": "code",
   "execution_count": 12,
   "id": "65f51e78",
   "metadata": {
    "execution": {
     "iopub.execute_input": "2024-12-22T00:49:58.922513Z",
     "iopub.status.busy": "2024-12-22T00:49:58.922034Z",
     "iopub.status.idle": "2024-12-22T00:49:58.926884Z",
     "shell.execute_reply": "2024-12-22T00:49:58.925909Z"
    },
    "papermill": {
     "duration": 0.014445,
     "end_time": "2024-12-22T00:49:58.928533",
     "exception": false,
     "start_time": "2024-12-22T00:49:58.914088",
     "status": "completed"
    },
    "tags": []
   },
   "outputs": [],
   "source": [
    "texts = df['content'].tolist()\n",
    "labels = df['sentiment'].tolist()"
   ]
  },
  {
   "cell_type": "code",
   "execution_count": 13,
   "id": "4e4291c1",
   "metadata": {
    "execution": {
     "iopub.execute_input": "2024-12-22T00:49:58.944084Z",
     "iopub.status.busy": "2024-12-22T00:49:58.943699Z",
     "iopub.status.idle": "2024-12-22T00:49:58.953772Z",
     "shell.execute_reply": "2024-12-22T00:49:58.952661Z"
    },
    "papermill": {
     "duration": 0.020012,
     "end_time": "2024-12-22T00:49:58.955701",
     "exception": false,
     "start_time": "2024-12-22T00:49:58.935689",
     "status": "completed"
    },
    "tags": []
   },
   "outputs": [],
   "source": [
    "train_text, test_text, train_label, test_label = train_test_split(texts, labels, test_size=0.2, \n",
    "                                                                  random_state=seed, shuffle=True)\n",
    "valid_text, test_text, valid_label, test_label = train_test_split(test_text, test_label, test_size=0.5, \n",
    "                                                                  random_state=seed, shuffle=True)"
   ]
  },
  {
   "cell_type": "code",
   "execution_count": 14,
   "id": "b6d845b0",
   "metadata": {
    "execution": {
     "iopub.execute_input": "2024-12-22T00:49:58.971564Z",
     "iopub.status.busy": "2024-12-22T00:49:58.971200Z",
     "iopub.status.idle": "2024-12-22T00:49:58.977492Z",
     "shell.execute_reply": "2024-12-22T00:49:58.976296Z"
    },
    "papermill": {
     "duration": 0.016378,
     "end_time": "2024-12-22T00:49:58.979334",
     "exception": false,
     "start_time": "2024-12-22T00:49:58.962956",
     "status": "completed"
    },
    "tags": []
   },
   "outputs": [],
   "source": [
    "class FinancialNew(Dataset):\n",
    "    def __init__(self, sequences, labels, \n",
    "                 seq_length, vocab_dict, \n",
    "                 transform=None):\n",
    "        self.sequences = sequences\n",
    "        self.labels = labels\n",
    "        self.seq_length = seq_length\n",
    "        self.vocab_dict = vocab_dict\n",
    "        self.transform = transform\n",
    "\n",
    "    def __len__(self):\n",
    "        return len(self.sequences)\n",
    "\n",
    "    def __getitem__(self, idx):\n",
    "        sequence = self.sequences[idx]\n",
    "        word_vectors = self.transform(sequence, self.seq_length, self.vocab_dict)\n",
    "        word_vectors = torch.tensor(word_vectors)\n",
    "        label = self.labels[idx]\n",
    "        return word_vectors, label\n"
   ]
  },
  {
   "cell_type": "code",
   "execution_count": 15,
   "id": "aac66e67",
   "metadata": {
    "execution": {
     "iopub.execute_input": "2024-12-22T00:49:58.994959Z",
     "iopub.status.busy": "2024-12-22T00:49:58.994568Z",
     "iopub.status.idle": "2024-12-22T00:49:58.999769Z",
     "shell.execute_reply": "2024-12-22T00:49:58.998595Z"
    },
    "papermill": {
     "duration": 0.014998,
     "end_time": "2024-12-22T00:49:59.001493",
     "exception": false,
     "start_time": "2024-12-22T00:49:58.986495",
     "status": "completed"
    },
    "tags": []
   },
   "outputs": [],
   "source": [
    "seq_length = 32\n",
    "train_dataset = FinancialNew(train_text, train_label, \n",
    "                         seq_length=seq_length, vocab_dict=vocab_dict, \n",
    "                         transform=word_to_number)\n",
    "\n",
    "valid_dataset = FinancialNew(valid_text, valid_label, \n",
    "                         seq_length=seq_length, vocab_dict=vocab_dict, \n",
    "                         transform=word_to_number)\n",
    "\n",
    "test_dataset = FinancialNew(test_text, test_label, \n",
    "                         seq_length=seq_length, vocab_dict=vocab_dict, \n",
    "                         transform=word_to_number)"
   ]
  },
  {
   "cell_type": "code",
   "execution_count": 16,
   "id": "b62abb85",
   "metadata": {
    "execution": {
     "iopub.execute_input": "2024-12-22T00:49:59.017268Z",
     "iopub.status.busy": "2024-12-22T00:49:59.016905Z",
     "iopub.status.idle": "2024-12-22T00:49:59.022452Z",
     "shell.execute_reply": "2024-12-22T00:49:59.021215Z"
    },
    "papermill": {
     "duration": 0.015494,
     "end_time": "2024-12-22T00:49:59.024218",
     "exception": false,
     "start_time": "2024-12-22T00:49:59.008724",
     "status": "completed"
    },
    "tags": []
   },
   "outputs": [],
   "source": [
    "train_batch_size = 64\n",
    "test_batch_size = 32\n",
    "\n",
    "train_loader = DataLoader(train_dataset, batch_size=train_batch_size, shuffle=True)\n",
    "valid_loader = DataLoader(valid_dataset, batch_size=test_batch_size, shuffle=True)\n",
    "test_loader = DataLoader(test_dataset, batch_size=test_batch_size, shuffle=False)"
   ]
  },
  {
   "cell_type": "markdown",
   "id": "a33a1258",
   "metadata": {
    "papermill": {
     "duration": 0.007219,
     "end_time": "2024-12-22T00:49:59.038727",
     "exception": false,
     "start_time": "2024-12-22T00:49:59.031508",
     "status": "completed"
    },
    "tags": []
   },
   "source": [
    "# **Model: RNN**"
   ]
  },
  {
   "cell_type": "code",
   "execution_count": 17,
   "id": "465ed2d6",
   "metadata": {
    "execution": {
     "iopub.execute_input": "2024-12-22T00:49:59.054671Z",
     "iopub.status.busy": "2024-12-22T00:49:59.054200Z",
     "iopub.status.idle": "2024-12-22T00:50:05.469190Z",
     "shell.execute_reply": "2024-12-22T00:50:05.467529Z"
    },
    "papermill": {
     "duration": 6.425673,
     "end_time": "2024-12-22T00:50:05.471718",
     "exception": false,
     "start_time": "2024-12-22T00:49:59.046045",
     "status": "completed"
    },
    "tags": []
   },
   "outputs": [
    {
     "name": "stdout",
     "output_type": "stream",
     "text": [
      "Requirement already satisfied: torchsummary in /usr/local/lib/python3.10/dist-packages (1.5.1)\r\n"
     ]
    }
   ],
   "source": [
    "!pip install torchsummary\n",
    "from torchsummary import summary"
   ]
  },
  {
   "cell_type": "code",
   "execution_count": 18,
   "id": "6705fb68",
   "metadata": {
    "execution": {
     "iopub.execute_input": "2024-12-22T00:50:05.488013Z",
     "iopub.status.busy": "2024-12-22T00:50:05.487597Z",
     "iopub.status.idle": "2024-12-22T00:50:05.496006Z",
     "shell.execute_reply": "2024-12-22T00:50:05.494881Z"
    },
    "papermill": {
     "duration": 0.018917,
     "end_time": "2024-12-22T00:50:05.498139",
     "exception": false,
     "start_time": "2024-12-22T00:50:05.479222",
     "status": "completed"
    },
    "tags": []
   },
   "outputs": [],
   "source": [
    "class SentimentClassifier(nn.Module):\n",
    "    def __init__(self, vocab_size, embedding_dim, hidden_dim, num_layers, n_classes, dropout_rate=0.0):\n",
    "        super().__init__()\n",
    "        self.embedding = nn.Embedding(vocab_size, embedding_dim)\n",
    "        self.rnn = nn.RNN(embedding_dim, hidden_dim, num_layers, batch_first=True)\n",
    "        self.flatten = nn.Flatten()\n",
    "        self.norm = nn.LayerNorm(hidden_dim)\n",
    "        self.dropout = nn.Dropout(dropout_rate)\n",
    "        self.fc1 = nn.Linear(hidden_dim, 16)\n",
    "        self.relu = nn.ReLU()\n",
    "        self.fc2 = nn.Linear(16, n_classes)\n",
    "        \n",
    "\n",
    "    def forward(self, x):\n",
    "        x = x.type(torch.LongTensor) #input of Embedding must be LongTensor or Int\n",
    "        x = self.embedding(x)\n",
    "        x, hn = self.rnn(x)\n",
    "        x = x[:, -1, :] # get final word\n",
    "        x = self.flatten(x)\n",
    "        x = self.norm(x)\n",
    "        x = self.dropout(x)\n",
    "        x = self.fc1(x)\n",
    "        x = self.relu(x)\n",
    "        x = self.fc2(x)\n",
    "        return x"
   ]
  },
  {
   "cell_type": "code",
   "execution_count": 19,
   "id": "66e25604",
   "metadata": {
    "execution": {
     "iopub.execute_input": "2024-12-22T00:50:05.527664Z",
     "iopub.status.busy": "2024-12-22T00:50:05.527147Z",
     "iopub.status.idle": "2024-12-22T00:50:05.602431Z",
     "shell.execute_reply": "2024-12-22T00:50:05.601306Z"
    },
    "papermill": {
     "duration": 0.092563,
     "end_time": "2024-12-22T00:50:05.604628",
     "exception": false,
     "start_time": "2024-12-22T00:50:05.512065",
     "status": "completed"
    },
    "tags": []
   },
   "outputs": [],
   "source": [
    "embedding_dim = 64\n",
    "hidden_dim = 64\n",
    "num_layers = 2\n",
    "vocab_size = len(vocab)\n",
    "n_classes = len(class_dict)\n",
    "dropout_rate=0.2\n",
    "\n",
    "device = 'cuda' if torch.cuda.is_available() else 'cpu'\n",
    "model = SentimentClassifier(vocab_size, embedding_dim, \n",
    "                            hidden_dim, num_layers, \n",
    "                            n_classes, dropout_rate).to(device)"
   ]
  },
  {
   "cell_type": "code",
   "execution_count": 20,
   "id": "2df38960",
   "metadata": {
    "execution": {
     "iopub.execute_input": "2024-12-22T00:50:05.625946Z",
     "iopub.status.busy": "2024-12-22T00:50:05.625515Z",
     "iopub.status.idle": "2024-12-22T00:50:05.748002Z",
     "shell.execute_reply": "2024-12-22T00:50:05.746586Z"
    },
    "papermill": {
     "duration": 0.132683,
     "end_time": "2024-12-22T00:50:05.749960",
     "exception": false,
     "start_time": "2024-12-22T00:50:05.617277",
     "status": "completed"
    },
    "tags": []
   },
   "outputs": [
    {
     "name": "stdout",
     "output_type": "stream",
     "text": [
      "----------------------------------------------------------------\n",
      "        Layer (type)               Output Shape         Param #\n",
      "================================================================\n",
      "         Embedding-1               [-1, 50, 64]         570,496\n",
      "               RNN-2  [[-1, 50, 64], [-1, 2, 64]]               0\n",
      "           Flatten-3                   [-1, 64]               0\n",
      "         LayerNorm-4                   [-1, 64]             128\n",
      "           Dropout-5                   [-1, 64]               0\n",
      "            Linear-6                   [-1, 16]           1,040\n",
      "              ReLU-7                   [-1, 16]               0\n",
      "            Linear-8                    [-1, 3]              51\n",
      "================================================================\n",
      "Total params: 571,715\n",
      "Trainable params: 571,715\n",
      "Non-trainable params: 0\n",
      "----------------------------------------------------------------\n",
      "Input size (MB): 0.00\n",
      "Forward/backward pass size (MB): 3.10\n",
      "Params size (MB): 2.18\n",
      "Estimated Total Size (MB): 5.28\n",
      "----------------------------------------------------------------\n"
     ]
    }
   ],
   "source": [
    "summary(model, (50, ))"
   ]
  },
  {
   "cell_type": "markdown",
   "id": "12e67321",
   "metadata": {
    "papermill": {
     "duration": 0.007071,
     "end_time": "2024-12-22T00:50:05.765128",
     "exception": false,
     "start_time": "2024-12-22T00:50:05.758057",
     "status": "completed"
    },
    "tags": []
   },
   "source": [
    "***Training***"
   ]
  },
  {
   "cell_type": "code",
   "execution_count": 21,
   "id": "b43fd191",
   "metadata": {
    "execution": {
     "iopub.execute_input": "2024-12-22T00:50:05.781874Z",
     "iopub.status.busy": "2024-12-22T00:50:05.781342Z",
     "iopub.status.idle": "2024-12-22T00:50:05.788455Z",
     "shell.execute_reply": "2024-12-22T00:50:05.787306Z"
    },
    "papermill": {
     "duration": 0.018027,
     "end_time": "2024-12-22T00:50:05.790572",
     "exception": false,
     "start_time": "2024-12-22T00:50:05.772545",
     "status": "completed"
    },
    "tags": []
   },
   "outputs": [],
   "source": [
    "def compute_accucary(predicted, labels):\n",
    "    predicted = np.array(predicted)\n",
    "    labels = np.array(labels)\n",
    "    return np.sum(predicted == labels) * 100 / predicted.shape[0]"
   ]
  },
  {
   "cell_type": "code",
   "execution_count": 22,
   "id": "dc2bdcdd",
   "metadata": {
    "execution": {
     "iopub.execute_input": "2024-12-22T00:50:05.807593Z",
     "iopub.status.busy": "2024-12-22T00:50:05.807104Z",
     "iopub.status.idle": "2024-12-22T00:50:05.815954Z",
     "shell.execute_reply": "2024-12-22T00:50:05.814835Z"
    },
    "papermill": {
     "duration": 0.019399,
     "end_time": "2024-12-22T00:50:05.817684",
     "exception": false,
     "start_time": "2024-12-22T00:50:05.798285",
     "status": "completed"
    },
    "tags": []
   },
   "outputs": [],
   "source": [
    "def train_one_epoch(train_loader, valid_loader, \n",
    "                    model, device, \n",
    "                    loss_func, optimizer):\n",
    "    model.train()\n",
    "    train_batch_loss = 0.0\n",
    "    train_labels = []\n",
    "    train_preds = []\n",
    "    \n",
    "    for i, (train_imgs, batch_train_labels) in enumerate(train_loader):\n",
    "        train_imgs = train_imgs.to(device)\n",
    "        batch_train_labels = batch_train_labels.to(device)\n",
    "        optimizer.zero_grad()\n",
    "        outputs = model(train_imgs)\n",
    "        train_loss = loss_func(outputs, batch_train_labels)\n",
    "        train_batch_loss += train_loss.item()\n",
    "        train_loss.backward()\n",
    "        optimizer.step()\n",
    "        train_preds += (outputs.argmax(dim=1).cpu().tolist())\n",
    "        train_labels += (batch_train_labels.cpu().tolist())\n",
    "        \n",
    "    \n",
    "    avg_batch_loss = train_batch_loss / len(train_loader)\n",
    "    train_accuracy_score = compute_accucary(train_preds, train_labels)\n",
    "    \n",
    "    return avg_batch_loss, train_accuracy_score"
   ]
  },
  {
   "cell_type": "code",
   "execution_count": 23,
   "id": "b5f74632",
   "metadata": {
    "execution": {
     "iopub.execute_input": "2024-12-22T00:50:05.833953Z",
     "iopub.status.busy": "2024-12-22T00:50:05.833518Z",
     "iopub.status.idle": "2024-12-22T00:50:05.842836Z",
     "shell.execute_reply": "2024-12-22T00:50:05.841664Z"
    },
    "papermill": {
     "duration": 0.019439,
     "end_time": "2024-12-22T00:50:05.844610",
     "exception": false,
     "start_time": "2024-12-22T00:50:05.825171",
     "status": "completed"
    },
    "tags": []
   },
   "outputs": [],
   "source": [
    "# training\n",
    "import time\n",
    "\n",
    "def train(train_loader, valid_loader, model, device, num_epochs, loss_func, optimizer):\n",
    "    max_valid_acc = 0.0\n",
    "    \n",
    "    train_losses = []\n",
    "    valid_losses = []\n",
    "    train_accuracies = []\n",
    "    valid_accuracies = []\n",
    "    \n",
    "    for epoch in range(num_epochs):\n",
    "        start_time = time.time()\n",
    "        avg_train_loss,  train_accuracy_score = train_one_epoch(train_loader, valid_loader, \n",
    "                                                                model, device, \n",
    "                                                                loss_func, optimizer)\n",
    "    \n",
    "        # evaluate\n",
    "        model.eval()\n",
    "        valid_batch_loss = 0.0\n",
    "        valid_labels = []\n",
    "        valid_preds = []\n",
    "        with torch.no_grad():\n",
    "            for valid_imgs, batch_valid_labels in valid_loader:\n",
    "                valid_imgs = valid_imgs.to(device)\n",
    "                batch_valid_labels = batch_valid_labels.to(device)\n",
    "                predicted = model(valid_imgs)\n",
    "                val_loss = loss_func(predicted, batch_valid_labels)\n",
    "                valid_batch_loss += val_loss.item()\n",
    "                valid_preds += (predicted.argmax(dim=1).cpu().tolist())\n",
    "                valid_labels += (batch_valid_labels.cpu().tolist())\n",
    "    \n",
    "        avg_valid_loss = valid_batch_loss / len(valid_loader)\n",
    "        valid_accuracy_score = compute_accucary(valid_preds, valid_labels)\n",
    "    \n",
    "        # save log\n",
    "        train_losses.append(avg_train_loss)\n",
    "        valid_losses.append(avg_valid_loss)\n",
    "        train_accuracies.append(train_accuracy_score)\n",
    "        valid_accuracies.append(valid_accuracy_score)\n",
    "        \n",
    "        #save best model\n",
    "        if max_valid_acc < valid_accuracy_score:\n",
    "            max_valid_acc = valid_accuracy_score\n",
    "            print(f'save best model at epoch {epoch+1}')\n",
    "            torch.save(model.state_dict(), './best_model.pt')\n",
    "        # print log\n",
    "        print(f\"Epoch {epoch+1}/{num_epochs} | {time.time() - start_time}s:\")\n",
    "        print(f\"Train Loss: {avg_train_loss:.4f} | Train Accuracy: {train_accuracy_score:.2f}% | Valid Loss: {avg_valid_loss:.4f} | Valid Accuracy: {valid_accuracy_score:.2f}%\")\n",
    "        print('-------------------------------------------------------------------------------------------')\n",
    "    return train_losses, valid_losses, train_accuracies, valid_accuracies\n"
   ]
  },
  {
   "cell_type": "code",
   "execution_count": 24,
   "id": "2cb11ce8",
   "metadata": {
    "execution": {
     "iopub.execute_input": "2024-12-22T00:50:05.860998Z",
     "iopub.status.busy": "2024-12-22T00:50:05.860466Z",
     "iopub.status.idle": "2024-12-22T00:51:17.481071Z",
     "shell.execute_reply": "2024-12-22T00:51:17.479710Z"
    },
    "papermill": {
     "duration": 71.63124,
     "end_time": "2024-12-22T00:51:17.483328",
     "exception": false,
     "start_time": "2024-12-22T00:50:05.852088",
     "status": "completed"
    },
    "tags": []
   },
   "outputs": [
    {
     "name": "stdout",
     "output_type": "stream",
     "text": [
      "save best model at epoch 1\n",
      "Epoch 1/50 | 1.45955491065979s:\n",
      "Train Loss: 0.9900 | Train Accuracy: 53.90% | Valid Loss: 0.9372 | Valid Accuracy: 57.32%\n",
      "-------------------------------------------------------------------------------------------\n",
      "save best model at epoch 2\n",
      "Epoch 2/50 | 1.4012606143951416s:\n",
      "Train Loss: 0.9296 | Train Accuracy: 59.34% | Valid Loss: 0.9359 | Valid Accuracy: 57.53%\n",
      "-------------------------------------------------------------------------------------------\n",
      "Epoch 3/50 | 1.387570858001709s:\n",
      "Train Loss: 0.9292 | Train Accuracy: 59.47% | Valid Loss: 0.9281 | Valid Accuracy: 57.53%\n",
      "-------------------------------------------------------------------------------------------\n",
      "Epoch 4/50 | 1.4330284595489502s:\n",
      "Train Loss: 0.9307 | Train Accuracy: 59.39% | Valid Loss: 0.9459 | Valid Accuracy: 57.53%\n",
      "-------------------------------------------------------------------------------------------\n",
      "Epoch 5/50 | 1.3697192668914795s:\n",
      "Train Loss: 0.9277 | Train Accuracy: 59.47% | Valid Loss: 0.9366 | Valid Accuracy: 57.53%\n",
      "-------------------------------------------------------------------------------------------\n",
      "Epoch 6/50 | 1.3740997314453125s:\n",
      "Train Loss: 0.9274 | Train Accuracy: 59.57% | Valid Loss: 0.9375 | Valid Accuracy: 57.53%\n",
      "-------------------------------------------------------------------------------------------\n",
      "Epoch 7/50 | 1.3600168228149414s:\n",
      "Train Loss: 0.9258 | Train Accuracy: 59.62% | Valid Loss: 0.9274 | Valid Accuracy: 57.53%\n",
      "-------------------------------------------------------------------------------------------\n",
      "save best model at epoch 8\n",
      "Epoch 8/50 | 1.3746657371520996s:\n",
      "Train Loss: 0.9273 | Train Accuracy: 59.65% | Valid Loss: 0.9355 | Valid Accuracy: 57.73%\n",
      "-------------------------------------------------------------------------------------------\n",
      "Epoch 9/50 | 1.3788785934448242s:\n",
      "Train Loss: 0.9232 | Train Accuracy: 59.65% | Valid Loss: 0.9366 | Valid Accuracy: 57.53%\n",
      "-------------------------------------------------------------------------------------------\n",
      "Epoch 10/50 | 1.3621346950531006s:\n",
      "Train Loss: 0.9270 | Train Accuracy: 59.67% | Valid Loss: 0.9422 | Valid Accuracy: 57.53%\n",
      "-------------------------------------------------------------------------------------------\n",
      "Epoch 11/50 | 1.393845796585083s:\n",
      "Train Loss: 0.9246 | Train Accuracy: 59.70% | Valid Loss: 0.9422 | Valid Accuracy: 57.53%\n",
      "-------------------------------------------------------------------------------------------\n",
      "Epoch 12/50 | 1.3596909046173096s:\n",
      "Train Loss: 0.9262 | Train Accuracy: 59.78% | Valid Loss: 0.9594 | Valid Accuracy: 57.53%\n",
      "-------------------------------------------------------------------------------------------\n",
      "Epoch 13/50 | 1.366940975189209s:\n",
      "Train Loss: 0.9256 | Train Accuracy: 59.78% | Valid Loss: 0.9589 | Valid Accuracy: 57.53%\n",
      "-------------------------------------------------------------------------------------------\n",
      "Epoch 14/50 | 1.3701536655426025s:\n",
      "Train Loss: 0.9263 | Train Accuracy: 59.80% | Valid Loss: 0.9574 | Valid Accuracy: 57.53%\n",
      "-------------------------------------------------------------------------------------------\n",
      "Epoch 15/50 | 1.3574004173278809s:\n",
      "Train Loss: 0.9232 | Train Accuracy: 59.86% | Valid Loss: 0.9667 | Valid Accuracy: 57.73%\n",
      "-------------------------------------------------------------------------------------------\n",
      "Epoch 16/50 | 1.3573904037475586s:\n",
      "Train Loss: 0.9262 | Train Accuracy: 59.96% | Valid Loss: 0.9262 | Valid Accuracy: 57.73%\n",
      "-------------------------------------------------------------------------------------------\n",
      "save best model at epoch 17\n",
      "Epoch 17/50 | 1.3912084102630615s:\n",
      "Train Loss: 0.9238 | Train Accuracy: 59.96% | Valid Loss: 0.9619 | Valid Accuracy: 57.94%\n",
      "-------------------------------------------------------------------------------------------\n",
      "Epoch 18/50 | 1.4242815971374512s:\n",
      "Train Loss: 0.9244 | Train Accuracy: 59.98% | Valid Loss: 0.9589 | Valid Accuracy: 57.73%\n",
      "-------------------------------------------------------------------------------------------\n",
      "Epoch 19/50 | 1.3826117515563965s:\n",
      "Train Loss: 0.9266 | Train Accuracy: 59.93% | Valid Loss: 0.9423 | Valid Accuracy: 57.94%\n",
      "-------------------------------------------------------------------------------------------\n",
      "Epoch 20/50 | 1.3806509971618652s:\n",
      "Train Loss: 0.9248 | Train Accuracy: 59.96% | Valid Loss: 0.9424 | Valid Accuracy: 57.94%\n",
      "-------------------------------------------------------------------------------------------\n",
      "Epoch 21/50 | 1.4124019145965576s:\n",
      "Train Loss: 0.9236 | Train Accuracy: 59.98% | Valid Loss: 0.9341 | Valid Accuracy: 57.94%\n",
      "-------------------------------------------------------------------------------------------\n",
      "Epoch 22/50 | 1.8626809120178223s:\n",
      "Train Loss: 0.9208 | Train Accuracy: 60.04% | Valid Loss: 0.9366 | Valid Accuracy: 57.94%\n",
      "-------------------------------------------------------------------------------------------\n",
      "Epoch 23/50 | 1.3571860790252686s:\n",
      "Train Loss: 0.9201 | Train Accuracy: 60.09% | Valid Loss: 0.9417 | Valid Accuracy: 57.73%\n",
      "-------------------------------------------------------------------------------------------\n",
      "Epoch 24/50 | 1.3746309280395508s:\n",
      "Train Loss: 0.9230 | Train Accuracy: 60.06% | Valid Loss: 0.9533 | Valid Accuracy: 57.73%\n",
      "-------------------------------------------------------------------------------------------\n",
      "Epoch 25/50 | 1.4155442714691162s:\n",
      "Train Loss: 0.9205 | Train Accuracy: 60.11% | Valid Loss: 0.9346 | Valid Accuracy: 57.73%\n",
      "-------------------------------------------------------------------------------------------\n",
      "Epoch 26/50 | 1.3858246803283691s:\n",
      "Train Loss: 0.9201 | Train Accuracy: 60.27% | Valid Loss: 0.9334 | Valid Accuracy: 57.53%\n",
      "-------------------------------------------------------------------------------------------\n",
      "Epoch 27/50 | 1.3490269184112549s:\n",
      "Train Loss: 0.9219 | Train Accuracy: 60.24% | Valid Loss: 0.9400 | Valid Accuracy: 57.53%\n",
      "-------------------------------------------------------------------------------------------\n",
      "Epoch 28/50 | 1.3529963493347168s:\n",
      "Train Loss: 0.9195 | Train Accuracy: 60.27% | Valid Loss: 0.9604 | Valid Accuracy: 57.32%\n",
      "-------------------------------------------------------------------------------------------\n",
      "Epoch 29/50 | 1.3484461307525635s:\n",
      "Train Loss: 0.9198 | Train Accuracy: 60.32% | Valid Loss: 0.9341 | Valid Accuracy: 57.53%\n",
      "-------------------------------------------------------------------------------------------\n",
      "Epoch 30/50 | 1.375018835067749s:\n",
      "Train Loss: 0.9161 | Train Accuracy: 60.45% | Valid Loss: 0.9245 | Valid Accuracy: 57.53%\n",
      "-------------------------------------------------------------------------------------------\n",
      "Epoch 31/50 | 1.3779692649841309s:\n",
      "Train Loss: 0.9155 | Train Accuracy: 60.58% | Valid Loss: 0.9504 | Valid Accuracy: 57.73%\n",
      "-------------------------------------------------------------------------------------------\n",
      "Epoch 32/50 | 1.431809902191162s:\n",
      "Train Loss: 0.9168 | Train Accuracy: 60.29% | Valid Loss: 0.9354 | Valid Accuracy: 57.32%\n",
      "-------------------------------------------------------------------------------------------\n",
      "Epoch 33/50 | 1.3623323440551758s:\n",
      "Train Loss: 0.9119 | Train Accuracy: 60.55% | Valid Loss: 0.9312 | Valid Accuracy: 57.94%\n",
      "-------------------------------------------------------------------------------------------\n",
      "Epoch 34/50 | 1.3861780166625977s:\n",
      "Train Loss: 0.9102 | Train Accuracy: 60.53% | Valid Loss: 0.9473 | Valid Accuracy: 57.73%\n",
      "-------------------------------------------------------------------------------------------\n",
      "save best model at epoch 35\n",
      "Epoch 35/50 | 1.3842716217041016s:\n",
      "Train Loss: 0.9040 | Train Accuracy: 60.84% | Valid Loss: 0.9082 | Valid Accuracy: 58.35%\n",
      "-------------------------------------------------------------------------------------------\n",
      "save best model at epoch 36\n",
      "Epoch 36/50 | 1.372748851776123s:\n",
      "Train Loss: 0.8986 | Train Accuracy: 61.66% | Valid Loss: 0.9050 | Valid Accuracy: 58.97%\n",
      "-------------------------------------------------------------------------------------------\n",
      "save best model at epoch 37\n",
      "Epoch 37/50 | 1.3806028366088867s:\n",
      "Train Loss: 0.8755 | Train Accuracy: 61.79% | Valid Loss: 0.8966 | Valid Accuracy: 60.00%\n",
      "-------------------------------------------------------------------------------------------\n",
      "save best model at epoch 38\n",
      "Epoch 38/50 | 1.3810813426971436s:\n",
      "Train Loss: 0.8679 | Train Accuracy: 62.98% | Valid Loss: 0.9069 | Valid Accuracy: 61.86%\n",
      "-------------------------------------------------------------------------------------------\n",
      "Epoch 39/50 | 1.4079546928405762s:\n",
      "Train Loss: 0.8552 | Train Accuracy: 63.49% | Valid Loss: 0.9023 | Valid Accuracy: 61.86%\n",
      "-------------------------------------------------------------------------------------------\n",
      "Epoch 40/50 | 1.4237322807312012s:\n",
      "Train Loss: 0.8440 | Train Accuracy: 64.27% | Valid Loss: 0.8938 | Valid Accuracy: 60.41%\n",
      "-------------------------------------------------------------------------------------------\n",
      "Epoch 41/50 | 1.3697490692138672s:\n",
      "Train Loss: 0.8407 | Train Accuracy: 64.09% | Valid Loss: 0.8780 | Valid Accuracy: 61.44%\n",
      "-------------------------------------------------------------------------------------------\n",
      "save best model at epoch 42\n",
      "Epoch 42/50 | 1.3905229568481445s:\n",
      "Train Loss: 0.8270 | Train Accuracy: 64.73% | Valid Loss: 0.8683 | Valid Accuracy: 63.30%\n",
      "-------------------------------------------------------------------------------------------\n",
      "Epoch 43/50 | 1.393810510635376s:\n",
      "Train Loss: 0.8165 | Train Accuracy: 65.66% | Valid Loss: 0.9030 | Valid Accuracy: 62.27%\n",
      "-------------------------------------------------------------------------------------------\n",
      "Epoch 44/50 | 1.5062639713287354s:\n",
      "Train Loss: 0.8112 | Train Accuracy: 65.61% | Valid Loss: 0.8782 | Valid Accuracy: 63.30%\n",
      "-------------------------------------------------------------------------------------------\n",
      "save best model at epoch 45\n",
      "Epoch 45/50 | 1.5435900688171387s:\n",
      "Train Loss: 0.8111 | Train Accuracy: 66.05% | Valid Loss: 0.9149 | Valid Accuracy: 64.12%\n",
      "-------------------------------------------------------------------------------------------\n",
      "Epoch 46/50 | 1.4063854217529297s:\n",
      "Train Loss: 0.7984 | Train Accuracy: 66.43% | Valid Loss: 0.9071 | Valid Accuracy: 62.89%\n",
      "-------------------------------------------------------------------------------------------\n",
      "Epoch 47/50 | 1.3872122764587402s:\n",
      "Train Loss: 0.7937 | Train Accuracy: 67.18% | Valid Loss: 0.8758 | Valid Accuracy: 62.68%\n",
      "-------------------------------------------------------------------------------------------\n",
      "Epoch 48/50 | 1.3605461120605469s:\n",
      "Train Loss: 0.7836 | Train Accuracy: 67.29% | Valid Loss: 0.8971 | Valid Accuracy: 63.30%\n",
      "-------------------------------------------------------------------------------------------\n",
      "Epoch 49/50 | 1.3852312564849854s:\n",
      "Train Loss: 0.7778 | Train Accuracy: 67.21% | Valid Loss: 0.8777 | Valid Accuracy: 64.12%\n",
      "-------------------------------------------------------------------------------------------\n",
      "Epoch 50/50 | 1.3841347694396973s:\n",
      "Train Loss: 0.7692 | Train Accuracy: 67.52% | Valid Loss: 0.8913 | Valid Accuracy: 62.47%\n",
      "-------------------------------------------------------------------------------------------\n"
     ]
    }
   ],
   "source": [
    "# define hyperparameters\n",
    "\n",
    "num_epochs = 50\n",
    "lr = 1e-4\n",
    "loss_func = nn.CrossEntropyLoss()\n",
    "optimizer = torch.optim.Adam(model.parameters(), lr=lr)\n",
    "\n",
    "train_losses, valid_losses, train_accuracies, valid_accuracies = train(train_loader, valid_loader, \n",
    "                                                                       model, device, num_epochs, \n",
    "                                                                       loss_func, optimizer)"
   ]
  },
  {
   "cell_type": "code",
   "execution_count": 25,
   "id": "4278dd2b",
   "metadata": {
    "execution": {
     "iopub.execute_input": "2024-12-22T00:51:17.505335Z",
     "iopub.status.busy": "2024-12-22T00:51:17.504669Z",
     "iopub.status.idle": "2024-12-22T00:51:18.095819Z",
     "shell.execute_reply": "2024-12-22T00:51:18.094317Z"
    },
    "papermill": {
     "duration": 0.604077,
     "end_time": "2024-12-22T00:51:18.097709",
     "exception": false,
     "start_time": "2024-12-22T00:51:17.493632",
     "status": "completed"
    },
    "tags": []
   },
   "outputs": [
    {
     "data": {
      "text/plain": [
       "<matplotlib.legend.Legend at 0x787b480a3e80>"
      ]
     },
     "execution_count": 25,
     "metadata": {},
     "output_type": "execute_result"
    },
    {
     "data": {
      "image/png": "[encoded data removed]",
      "text/plain": [
       "<Figure size 2000x1000 with 2 Axes>"
      ]
     },
     "metadata": {},
     "output_type": "display_data"
    }
   ],
   "source": [
    "# Plot log\n",
    "fig, ax = plt.subplots(1, 2, figsize=(20, 10))\n",
    "ax[0].plot(range(1, len(train_losses) + 1), train_losses, label='train_loss', color='blue')\n",
    "ax[0].plot(range(1, len(valid_losses) + 1), valid_losses, label='valid_loss', color='orange')\n",
    "ax[0].set_xlabel('epoch')\n",
    "ax[0].set_ylabel('loss')\n",
    "ax[0].legend()\n",
    "\n",
    "ax[1].plot(range(1, len(train_accuracies) + 1), train_accuracies, label='train_accuracy', color='blue')\n",
    "ax[1].plot(range(1, len(valid_accuracies) + 1), valid_accuracies, label='valid_accuracy', color='orange')\n",
    "ax[1].set_xlabel('epoch')\n",
    "ax[1].set_ylabel('accuracy')\n",
    "ax[1].legend()"
   ]
  },
  {
   "cell_type": "markdown",
   "id": "a4efdef3",
   "metadata": {
    "papermill": {
     "duration": 0.011865,
     "end_time": "2024-12-22T00:51:18.122005",
     "exception": false,
     "start_time": "2024-12-22T00:51:18.110140",
     "status": "completed"
    },
    "tags": []
   },
   "source": [
    "# **Loading best model and testing**"
   ]
  },
  {
   "cell_type": "code",
   "execution_count": 26,
   "id": "f2633d81",
   "metadata": {
    "execution": {
     "iopub.execute_input": "2024-12-22T00:51:18.147454Z",
     "iopub.status.busy": "2024-12-22T00:51:18.147082Z",
     "iopub.status.idle": "2024-12-22T00:51:18.165792Z",
     "shell.execute_reply": "2024-12-22T00:51:18.164688Z"
    },
    "papermill": {
     "duration": 0.033494,
     "end_time": "2024-12-22T00:51:18.167528",
     "exception": false,
     "start_time": "2024-12-22T00:51:18.134034",
     "status": "completed"
    },
    "tags": []
   },
   "outputs": [
    {
     "data": {
      "text/plain": [
       "<All keys matched successfully>"
      ]
     },
     "execution_count": 26,
     "metadata": {},
     "output_type": "execute_result"
    }
   ],
   "source": [
    "embedding_dim = 64\n",
    "hidden_dim = 64\n",
    "num_layers = 2\n",
    "vocab_size = len(vocab)\n",
    "n_classes = len(class_dict)\n",
    "dropout_rate=0.2\n",
    "\n",
    "device = 'cuda' if torch.cuda.is_available() else 'cpu'\n",
    "model = SentimentClassifier(vocab_size, embedding_dim, \n",
    "                            hidden_dim, num_layers, \n",
    "                            n_classes, dropout_rate).to(device)\n",
    "model.load_state_dict(torch.load('./best_model.pt', weights_only=True))"
   ]
  },
  {
   "cell_type": "code",
   "execution_count": 27,
   "id": "4f270f42",
   "metadata": {
    "execution": {
     "iopub.execute_input": "2024-12-22T00:51:18.194021Z",
     "iopub.status.busy": "2024-12-22T00:51:18.193639Z",
     "iopub.status.idle": "2024-12-22T00:51:18.266715Z",
     "shell.execute_reply": "2024-12-22T00:51:18.265582Z"
    },
    "papermill": {
     "duration": 0.088574,
     "end_time": "2024-12-22T00:51:18.268450",
     "exception": false,
     "start_time": "2024-12-22T00:51:18.179876",
     "status": "completed"
    },
    "tags": []
   },
   "outputs": [
    {
     "name": "stdout",
     "output_type": "stream",
     "text": [
      "Test_loss: 0.8457894138991833\n",
      "Test_acc: 61.855670103092784\n"
     ]
    }
   ],
   "source": [
    "# Testing\n",
    "model.eval()\n",
    "test_batch_loss = 0.0\n",
    "test_labels = []\n",
    "test_preds = []\n",
    "with torch.no_grad():\n",
    "    for test_imgs, batch_test_labels in test_loader:\n",
    "        test_imgs = test_imgs.to(device)\n",
    "        batch_test_labels = batch_test_labels.to(device)\n",
    "        predicted = model(test_imgs)\n",
    "        test_loss = loss_func(predicted, batch_test_labels)\n",
    "        test_batch_loss += test_loss.item()\n",
    "        test_preds += (predicted.argmax(dim=1).cpu().tolist())\n",
    "        test_labels += (batch_test_labels.cpu().tolist())\n",
    "\n",
    "avg_test_loss = test_batch_loss / len(test_loader)\n",
    "test_accuracy_score = compute_accucary(test_preds, test_labels)\n",
    "\n",
    "print(f\"Test_loss: {avg_test_loss}\")\n",
    "print(f\"Test_acc: {test_accuracy_score}\")"
   ]
  }
 ],
 "metadata": {
  "kaggle": {
   "accelerator": "none",
   "dataSources": [
    {
     "datasetId": 6058854,
     "sourceId": 10258606,
     "sourceType": "datasetVersion"
    }
   ],
   "dockerImageVersionId": 30822,
   "isGpuEnabled": false,
   "isInternetEnabled": true,
   "language": "python",
   "sourceType": "notebook"
  },
  "kernelspec": {
   "display_name": "Python 3",
   "language": "python",
   "name": "python3"
  },
  "language_info": {
   "codemirror_mode": {
    "name": "ipython",
    "version": 3
   },
   "file_extension": ".py",
   "mimetype": "text/x-python",
   "name": "python",
   "nbconvert_exporter": "python",
   "pygments_lexer": "ipython3",
   "version": "3.10.12"
  },
  "papermill": {
   "default_parameters": {},
   "duration": 96.035323,
   "end_time": "2024-12-22T00:51:21.008200",
   "environment_variables": {},
   "exception": null,
   "input_path": "__notebook__.ipynb",
   "output_path": "__notebook__.ipynb",
   "parameters": {},
   "start_time": "2024-12-22T00:49:44.972877",
   "version": "2.6.0"
  }
 },
 "nbformat": 4,
 "nbformat_minor": 5
}
